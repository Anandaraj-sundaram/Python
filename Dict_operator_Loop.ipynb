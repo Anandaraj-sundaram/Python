{
 "cells": [
  {
   "cell_type": "code",
   "execution_count": 20,
   "id": "92a04941",
   "metadata": {},
   "outputs": [],
   "source": [
    "##The purpose of Dict is capturing the unordered data from ex IOT \n",
    "a={\"name\" : \"kiran\",\"location\" : \"chennai\", \"age\" : \"20\"}"
   ]
  },
  {
   "cell_type": "code",
   "execution_count": 2,
   "id": "58805217",
   "metadata": {},
   "outputs": [
    {
     "name": "stdout",
     "output_type": "stream",
     "text": [
      "<class 'dict'>\n"
     ]
    }
   ],
   "source": [
    "print(type(a))"
   ]
  },
  {
   "cell_type": "code",
   "execution_count": 3,
   "id": "ffe520ec",
   "metadata": {},
   "outputs": [
    {
     "name": "stdout",
     "output_type": "stream",
     "text": [
      "True\n"
     ]
    }
   ],
   "source": [
    "print(isinstance(a,dict))"
   ]
  },
  {
   "cell_type": "code",
   "execution_count": 19,
   "id": "07eee630",
   "metadata": {},
   "outputs": [
    {
     "name": "stdout",
     "output_type": "stream",
     "text": [
      "chennai\n"
     ]
    }
   ],
   "source": [
    "a=[[\"kiran\",\"20\",\"chennai\"],[\"kumar\",\"madurai\",\"30\"]]\n",
    "print(a[0][2])"
   ]
  },
  {
   "cell_type": "code",
   "execution_count": 7,
   "id": "1c8ea66e",
   "metadata": {},
   "outputs": [
    {
     "name": "stdout",
     "output_type": "stream",
     "text": [
      "kiran\n",
      "kiran\n"
     ]
    }
   ],
   "source": [
    "a={\"name\" : \"kiran\",\"location\" : \"chennai\", \"age\" : \"20\"}\n",
    "print(a[\"name\"])\n",
    "print(a.get(\"name\"))"
   ]
  },
  {
   "cell_type": "code",
   "execution_count": 8,
   "id": "875ec526",
   "metadata": {},
   "outputs": [
    {
     "ename": "NameError",
     "evalue": "name 'salary' is not defined",
     "output_type": "error",
     "traceback": [
      "\u001b[1;31m---------------------------------------------------------------------------\u001b[0m",
      "\u001b[1;31mNameError\u001b[0m                                 Traceback (most recent call last)",
      "\u001b[1;32m~\\AppData\\Local\\Temp\\ipykernel_14600\\2094973044.py\u001b[0m in \u001b[0;36m<module>\u001b[1;34m\u001b[0m\n\u001b[1;32m----> 1\u001b[1;33m \u001b[0mprint\u001b[0m\u001b[1;33m(\u001b[0m\u001b[0ma\u001b[0m\u001b[1;33m[\u001b[0m\u001b[0msalary\u001b[0m\u001b[1;33m]\u001b[0m\u001b[1;33m)\u001b[0m\u001b[1;33m\u001b[0m\u001b[1;33m\u001b[0m\u001b[0m\n\u001b[0m",
      "\u001b[1;31mNameError\u001b[0m: name 'salary' is not defined"
     ]
    }
   ],
   "source": [
    "print(a[salary])"
   ]
  },
  {
   "cell_type": "code",
   "execution_count": 9,
   "id": "56718978",
   "metadata": {},
   "outputs": [
    {
     "name": "stdout",
     "output_type": "stream",
     "text": [
      "0\n"
     ]
    }
   ],
   "source": [
    "print(a.get(\"salary\",0))"
   ]
  },
  {
   "cell_type": "code",
   "execution_count": 10,
   "id": "bb13a3ab",
   "metadata": {},
   "outputs": [
    {
     "name": "stdout",
     "output_type": "stream",
     "text": [
      "dict_keys(['name', 'location', 'age'])\n",
      "dict_values(['kiran', 'chennai', '20'])\n",
      "dict_items([('name', 'kiran'), ('location', 'chennai'), ('age', '20')])\n"
     ]
    }
   ],
   "source": [
    "##All the o/ps will come in List\n",
    "print(a.keys())\n",
    "print(a.values())\n",
    "print(a.items())"
   ]
  },
  {
   "cell_type": "code",
   "execution_count": 11,
   "id": "2750774f",
   "metadata": {},
   "outputs": [
    {
     "name": "stdout",
     "output_type": "stream",
     "text": [
      "3\n",
      "name\n",
      "age\n",
      "['age', 'location', 'name']\n"
     ]
    }
   ],
   "source": [
    "##all are based on Keys\n",
    "print(len(a))\n",
    "print(max(a))\n",
    "print(min(a))\n",
    "print(sorted(a))"
   ]
  },
  {
   "cell_type": "code",
   "execution_count": 13,
   "id": "52987a31",
   "metadata": {},
   "outputs": [
    {
     "name": "stdout",
     "output_type": "stream",
     "text": [
      "{'name': 'kiran', 'location': 'chennai', 'age': '20', 'salary': 100}\n",
      "{'name': 'kiran', 'location': 'chennai', 'age': '20', 'salary': 100}\n",
      "{'name': 'kiran', 'location': 'chennai', 'age': '20', 'salary': 200}\n"
     ]
    }
   ],
   "source": [
    "##adding a new key value pair & updating the same\n",
    "print(a)\n",
    "a[\"salary\"]=100\n",
    "print(a)\n",
    "a[\"salary\"]=200\n",
    "print(a)"
   ]
  },
  {
   "cell_type": "code",
   "execution_count": 14,
   "id": "c7bf02b3",
   "metadata": {},
   "outputs": [
    {
     "name": "stdout",
     "output_type": "stream",
     "text": [
      "{'name': 'kiran', 'location': 'chennai', 'age': '20'}\n"
     ]
    }
   ],
   "source": [
    "##Deleting a key value pair\n",
    "del a[\"salary\"]\n",
    "print(a)"
   ]
  },
  {
   "cell_type": "code",
   "execution_count": 15,
   "id": "b90868f1",
   "metadata": {},
   "outputs": [
    {
     "name": "stdout",
     "output_type": "stream",
     "text": [
      "{'name': 'test', 'location': 'chennai', 'age': '20'}\n"
     ]
    }
   ],
   "source": [
    "#Keys name should not be duplicate in same set.If so, latest key value will be considered\n",
    "a={\"name\" : \"kiran\",\"location\" : \"chennai\", \"age\" : \"20\", \"name\" : \"test\"}\n",
    "print(a)"
   ]
  },
  {
   "cell_type": "code",
   "execution_count": 16,
   "id": "83b88cfc",
   "metadata": {},
   "outputs": [
    {
     "name": "stdout",
     "output_type": "stream",
     "text": [
      "{'name': 'test', 'location': 'chennai'}\n",
      "('age', '20')\n"
     ]
    }
   ],
   "source": [
    "#Popitem will take (cut) last key value pair from the dict\n",
    "b=a.popitem()\n",
    "print(a)\n",
    "print(b)"
   ]
  },
  {
   "cell_type": "code",
   "execution_count": 18,
   "id": "e2dd3a6f",
   "metadata": {},
   "outputs": [
    {
     "name": "stdout",
     "output_type": "stream",
     "text": [
      "{'one': 1, 'two': 2, 'three': 3}\n"
     ]
    }
   ],
   "source": [
    "##Two lists nneds to be considered as dict. One condition is\n",
    "## that both list length should be same\n",
    "a=[\"one\",\"two\",\"three\"]\n",
    "b=[1,2,3]\n",
    "c=dict(zip(a,b))\n",
    "print(c)"
   ]
  },
  {
   "cell_type": "code",
   "execution_count": 21,
   "id": "2407aa32",
   "metadata": {},
   "outputs": [
    {
     "name": "stdout",
     "output_type": "stream",
     "text": [
      "7\n",
      "3\n",
      "10\n",
      "25\n",
      "2.5\n",
      "1\n",
      "2\n"
     ]
    }
   ],
   "source": [
    "#Operators\n",
    "#1.Arithmetic operator\n",
    "a=5\n",
    "b=2\n",
    "print(a+b)\n",
    "print(a-b)\n",
    "print(a*b)\n",
    "print(a**b) ## exp, a power of b\n",
    "print(a/b)\n",
    "print(a%b) ## modulus --> reminder\n",
    "print(a//b) ##floor division --> Quotient"
   ]
  },
  {
   "cell_type": "code",
   "execution_count": 22,
   "id": "f1580edc",
   "metadata": {},
   "outputs": [
    {
     "name": "stdout",
     "output_type": "stream",
     "text": [
      "False\n",
      "True\n",
      "True\n",
      "True\n",
      "False\n",
      "False\n"
     ]
    }
   ],
   "source": [
    "##assignment operator\n",
    "a=4\n",
    "##relational operator\n",
    "a=5\n",
    "b=2\n",
    "print(a==b)\n",
    "print(a!=b)\n",
    "print(a>b)\n",
    "print(a>=b)\n",
    "print(a<=b)\n",
    "print(a<b)\n"
   ]
  },
  {
   "cell_type": "code",
   "execution_count": 23,
   "id": "13bf73a7",
   "metadata": {},
   "outputs": [
    {
     "name": "stdout",
     "output_type": "stream",
     "text": [
      "True\n",
      "False\n",
      "True\n",
      "False\n",
      "True\n"
     ]
    }
   ],
   "source": [
    "## Logical operator and, or, not\n",
    "print(True and True)\n",
    "print(True and False)\n",
    "print(True or False)\n",
    "print(not True)\n",
    "print(not False)"
   ]
  },
  {
   "cell_type": "code",
   "execution_count": 24,
   "id": "2fb48894",
   "metadata": {},
   "outputs": [],
   "source": [
    "##Bitwise operator (expl)"
   ]
  },
  {
   "cell_type": "code",
   "execution_count": 25,
   "id": "2c2e57d9",
   "metadata": {},
   "outputs": [],
   "source": [
    "## Loops if, while, for"
   ]
  },
  {
   "cell_type": "code",
   "execution_count": 28,
   "id": "07702142",
   "metadata": {},
   "outputs": [
    {
     "name": "stdout",
     "output_type": "stream",
     "text": [
      "no\n"
     ]
    }
   ],
   "source": [
    "##if loop -> Decision making statement\n",
    "name=\"tamil\"\n",
    "mark=\"50\"\n",
    "if name==\"kiran\" and mark == \"50\":\n",
    "    print(\"yes\")\n",
    "else:\n",
    "    print(\"no\")"
   ]
  },
  {
   "cell_type": "code",
   "execution_count": 29,
   "id": "4a9d32ce",
   "metadata": {},
   "outputs": [
    {
     "name": "stdout",
     "output_type": "stream",
     "text": [
      "second class\n"
     ]
    }
   ],
   "source": [
    "## Nested if\n",
    "name = \"kiran\"\n",
    "mark = 50\n",
    "if name ==\"kiran\" and mark >35:\n",
    "    if mark > 60:\n",
    "        print(\"first class\")\n",
    "    else:\n",
    "        print(\"second class\")\n",
    "else:\n",
    "    print(\"fail\")"
   ]
  },
  {
   "cell_type": "code",
   "execution_count": 32,
   "id": "afddb3c9",
   "metadata": {},
   "outputs": [
    {
     "name": "stdout",
     "output_type": "stream",
     "text": [
      "Fail\n"
     ]
    }
   ],
   "source": [
    "##if - elif  (one condition is satisfied it wont check remaining conditions )\n",
    "name = \"kiran\"\n",
    "mark = 30\n",
    "\n",
    "# if name == \"kiran\"  \n",
    "# print(\"yes\")\n",
    "if mark ==100:\n",
    "    print(\"centum\")\n",
    "elif mark >=90:\n",
    "    print(\"A grade\")\n",
    "elif mark <90 and mark >35:\n",
    "    print(\"Not A grade\")\n",
    "else:\n",
    "    print(\"Fail\")"
   ]
  },
  {
   "cell_type": "code",
   "execution_count": 33,
   "id": "1946b0f9",
   "metadata": {},
   "outputs": [
    {
     "name": "stdout",
     "output_type": "stream",
     "text": [
      "1\n",
      "2\n",
      "3\n",
      "4\n"
     ]
    }
   ],
   "source": [
    "# While loop (preferably not to be used)\n",
    "a=1\n",
    "\n",
    "while a<5: #true\n",
    "    print(a)\n",
    "    a=a+1"
   ]
  },
  {
   "cell_type": "code",
   "execution_count": 37,
   "id": "c3bb9211",
   "metadata": {},
   "outputs": [
    {
     "data": {
      "text/plain": [
       "[10, 11, 12, 13, 14]"
      ]
     },
     "execution_count": 37,
     "metadata": {},
     "output_type": "execute_result"
    }
   ],
   "source": [
    "## for loop \n",
    "## in built function range(10)\n",
    "range(10)\n",
    "list(range(10))\n",
    "list(range(10,15))\n"
   ]
  },
  {
   "cell_type": "code",
   "execution_count": 43,
   "id": "c7a73c95",
   "metadata": {},
   "outputs": [
    {
     "data": {
      "text/plain": [
       "[10, 12, 14]"
      ]
     },
     "execution_count": 43,
     "metadata": {},
     "output_type": "execute_result"
    }
   ],
   "source": [
    "tuple(range(10))\n",
    "#list(range(10,15,2))"
   ]
  },
  {
   "cell_type": "code",
   "execution_count": 40,
   "id": "fae76828",
   "metadata": {},
   "outputs": [
    {
     "name": "stdout",
     "output_type": "stream",
     "text": [
      "0\n",
      "1\n",
      "2\n",
      "3\n",
      "4\n"
     ]
    }
   ],
   "source": [
    "for i in range(5):\n",
    "    print(i)"
   ]
  },
  {
   "cell_type": "code",
   "execution_count": 45,
   "id": "5ba9beac",
   "metadata": {},
   "outputs": [
    {
     "name": "stdout",
     "output_type": "stream",
     "text": [
      "hello\n",
      "welcome\n",
      "to\n",
      "tamilbhoomi\n"
     ]
    }
   ],
   "source": [
    "a=[\"hello\",\"welcome\",\"to\",\"tamilbhoomi\"]\n",
    "for i in a:\n",
    "    print(i)"
   ]
  },
  {
   "cell_type": "code",
   "execution_count": 50,
   "id": "3cce4a55",
   "metadata": {},
   "outputs": [
    {
     "name": "stdout",
     "output_type": "stream",
     "text": [
      "['hello', 'welcome', 'to', 'tb,', 'today', 'we', 'are', 'learning', 'python']\n",
      "yes python has occured\n"
     ]
    }
   ],
   "source": [
    "a=\"hello welcome to tb, today we are learning python\"\n",
    "a=a.split(\" \") ## always function o/p will be in List\n",
    "print(a)\n",
    "for i in a:\n",
    "    if i==\"python\":\n",
    "        print(\"yes python has occured\")"
   ]
  },
  {
   "cell_type": "code",
   "execution_count": 51,
   "id": "ff81a996",
   "metadata": {},
   "outputs": [
    {
     "name": "stdout",
     "output_type": "stream",
     "text": [
      "name\n",
      "location\n",
      "age\n"
     ]
    }
   ],
   "source": [
    "#iterating Dictionary\n",
    "a={\"name\" : \"kiran\",\"location\" : \"chennai\", \"age\" : \"20\"}\n",
    "for i in a.keys():\n",
    "    print(i)"
   ]
  },
  {
   "cell_type": "code",
   "execution_count": 53,
   "id": "9a378a7d",
   "metadata": {},
   "outputs": [
    {
     "name": "stdout",
     "output_type": "stream",
     "text": [
      "kiran\n",
      "chennai\n",
      "20\n"
     ]
    }
   ],
   "source": [
    "for i in a.values():\n",
    "    print(i)"
   ]
  },
  {
   "cell_type": "code",
   "execution_count": 62,
   "id": "054e5502",
   "metadata": {},
   "outputs": [
    {
     "name": "stdout",
     "output_type": "stream",
     "text": [
      "key is :name\n",
      "value is:kiran\n",
      "key and value is :  name kiran\n",
      "key is :location\n",
      "value is:chennai\n",
      "key and value is :  location chennai\n",
      "key is :age\n",
      "value is:20\n",
      "key and value is :  age 20\n"
     ]
    }
   ],
   "source": [
    "for k,v in a.items():\n",
    "    print(f\"key is :{k}\")\n",
    "    print(f\"value is:{v}\")\n",
    "    print(\"key and value is : \",k,v )"
   ]
  },
  {
   "cell_type": "code",
   "execution_count": 68,
   "id": "a0c3bd92",
   "metadata": {},
   "outputs": [
    {
     "name": "stdout",
     "output_type": "stream",
     "text": [
      "[10]\n",
      "[10, 12]\n",
      "[10, 12, 14]\n",
      "[10, 12, 14, 16]\n",
      "[10, 12, 14, 16, 18]\n"
     ]
    }
   ],
   "source": [
    "## expected o/p from the range of 10-20 a=[10,12,14,16,18] in list\n",
    "\n",
    "l=[]\n",
    "for i in range(10,20):\n",
    "    if (i%2)==0:\n",
    "        l.append(i)\n",
    "        print(l)\n",
    "    #print(l)\n",
    "#print(l)\n"
   ]
  },
  {
   "cell_type": "code",
   "execution_count": null,
   "id": "fade3c50",
   "metadata": {},
   "outputs": [],
   "source": [
    "##Assignment 1## a = [\"test@gmail.com\" , \"kumar@yahoo.com\" , \"kiran@gmail.com\"]\n",
    "## output 1 = [\"test\" , \"kiran\" ,\"kumar\"]\n",
    "## output 2 = [\"gmail\" , \"yahoo\"]\n",
    "##Assignment 2\n",
    "#a = [\"apple\" , \"apple\" , \"mango\" , \"mango\" , \"orange\"]\n",
    "# output = {\"apple\" : 2 , \"mango\" : 2 , \"orange\" : 1}\n",
    "# unique fruit list = [\"apple\" , \"mango\", \"orange\"]\n",
    "# duplicate fruit list [\"apple\" , \"mango\"]"
   ]
  },
  {
   "cell_type": "code",
   "execution_count": 44,
   "id": "a72c6811",
   "metadata": {},
   "outputs": [
    {
     "name": "stdout",
     "output_type": "stream",
     "text": [
      "['test', 'kumar', 'kiran']\n",
      "['gmail', 'yahoo']\n"
     ]
    }
   ],
   "source": [
    "##Assignment #1\n",
    "a = [\"test@gmail.com\" , \"kumar@yahoo.com\" , \"kiran@gmail.com\"]\n",
    "l = []                   ## empty list\n",
    "l1= []                   ## empty list\n",
    "for i in a:\n",
    "    b=i[0:(i.index('@'))]                   ### starts with 0th index and ends with the index of char @\n",
    "    l.append(b)\n",
    "    c=i[(i.index('@')+1):(i.index(\".com\"))] ### starts with index of char '@' +1 and ends with the index of string '.com'\n",
    "    if c not in l1:\n",
    "        l1.append(c)\n",
    "\n",
    "print(l)\n",
    "print(l1)"
   ]
  },
  {
   "cell_type": "code",
   "execution_count": 46,
   "id": "87629e73",
   "metadata": {},
   "outputs": [
    {
     "name": "stdout",
     "output_type": "stream",
     "text": [
      "['apple', 'mango', 'orange']\n",
      "['apple', 'mango']\n",
      "{'apple': 2, 'mango': 2, 'orange': 1}\n"
     ]
    }
   ],
   "source": [
    "##Assignment #2\n",
    "a      = [\"apple\" , \"apple\" , \"mango\" , \"mango\" , \"orange\"]\n",
    "unique = []              ## empty List\n",
    "dup    = []              ## empty list\n",
    "dctn   = {}              ## empty dictionary\n",
    "for i in a: \n",
    "    if i not in unique:  ## Not in unique list - Not the duplicates string which is already present in unique list\n",
    "        unique.append(i)\n",
    "    else:\n",
    "        dup.append(i)    ## duplicates string which is already present in unique list\n",
    "\n",
    "for i in unique:         ## Iterate the unique list\n",
    "    dctn[i]=a.count(i)   ## for each unique string in list, count the total number of the same unique string's (iterrate value)\n",
    "                         ## count in list a. \n",
    "\n",
    "\n",
    "print(unique)\n",
    "print(dup)\n",
    "print(dctn)"
   ]
  }
 ],
 "metadata": {
  "kernelspec": {
   "display_name": "Python 3 (ipykernel)",
   "language": "python",
   "name": "python3"
  },
  "language_info": {
   "codemirror_mode": {
    "name": "ipython",
    "version": 3
   },
   "file_extension": ".py",
   "mimetype": "text/x-python",
   "name": "python",
   "nbconvert_exporter": "python",
   "pygments_lexer": "ipython3",
   "version": "3.9.13"
  }
 },
 "nbformat": 4,
 "nbformat_minor": 5
}
