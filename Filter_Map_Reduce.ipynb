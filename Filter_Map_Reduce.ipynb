{
 "cells": [
  {
   "cell_type": "code",
   "execution_count": null,
   "id": "cfb42486",
   "metadata": {},
   "outputs": [],
   "source": [
    "## filter,map, reduce\n",
    "## It takes two arguments 1 function name 2. argu\n",
    "## Filter returns the value"
   ]
  },
  {
   "cell_type": "code",
   "execution_count": 1,
   "id": "e4df562d",
   "metadata": {},
   "outputs": [],
   "source": [
    "def even(n):\n",
    "    print(\"function has started\")\n",
    "    if n%2 == 0:\n",
    "        return True\n",
    "    else:\n",
    "        return False"
   ]
  },
  {
   "cell_type": "code",
   "execution_count": 6,
   "id": "10abd18d",
   "metadata": {},
   "outputs": [
    {
     "name": "stdout",
     "output_type": "stream",
     "text": [
      "function has started\n",
      "function has started\n",
      "function has started\n",
      "function has started\n",
      "function has started\n",
      "function has started\n",
      "function has started\n",
      "function has started\n",
      "[2, 4, 6, 8]\n"
     ]
    }
   ],
   "source": [
    "a=[1,2,3,4,5,6,7,8]\n",
    "b=filter(even,a)\n",
    "print(list(b))"
   ]
  },
  {
   "cell_type": "code",
   "execution_count": 5,
   "id": "e367f04e",
   "metadata": {},
   "outputs": [
    {
     "name": "stdout",
     "output_type": "stream",
     "text": [
      "[2, 4, 6, 8]\n"
     ]
    }
   ],
   "source": [
    "a=[1,2,3,4,5,6,7,8]\n",
    "print(list(filter(lambda i:i%2==0,a)))"
   ]
  },
  {
   "cell_type": "code",
   "execution_count": 8,
   "id": "3cdca2c8",
   "metadata": {},
   "outputs": [
    {
     "name": "stdout",
     "output_type": "stream",
     "text": [
      "[False, True, False, True, False, True, False, True]\n"
     ]
    }
   ],
   "source": [
    "##map\n",
    "def even(n):\n",
    "    #print(\"function has started\")\n",
    "    if n%2 == 0:\n",
    "        return True\n",
    "    else:\n",
    "        return False\n",
    "\n",
    "a=[1,2,3,4,5,6,7,8]\n",
    "b=map(even,a)\n",
    "print(list(b))"
   ]
  },
  {
   "cell_type": "code",
   "execution_count": 9,
   "id": "0032b912",
   "metadata": {},
   "outputs": [
    {
     "name": "stdout",
     "output_type": "stream",
     "text": [
      "[False, True, False, True, False, True, False, True]\n"
     ]
    }
   ],
   "source": [
    "a=[1,2,3,4,5,6,7,8]\n",
    "print(list(map(lambda x:x%2==0,a)))"
   ]
  },
  {
   "cell_type": "code",
   "execution_count": 15,
   "id": "adefeade",
   "metadata": {},
   "outputs": [
    {
     "name": "stdout",
     "output_type": "stream",
     "text": [
      "36\n",
      "36\n"
     ]
    }
   ],
   "source": [
    "##Reduce\n",
    "from functools import reduce\n",
    "\n",
    "def sum(m,n):\n",
    "    return m+n\n",
    "\n",
    "a=[1,2,3,4,5,6,7,8]\n",
    "print(reduce(sum,a))\n",
    "print(reduce(lambda m,n: m+n, a))"
   ]
  },
  {
   "cell_type": "code",
   "execution_count": 16,
   "id": "5ecaec05",
   "metadata": {},
   "outputs": [
    {
     "name": "stdout",
     "output_type": "stream",
     "text": [
      "[0, 1, 2, 3, 4, 5, 6, 7, 8, 9]\n"
     ]
    }
   ],
   "source": [
    "## List comprehension\n",
    "a=[x for x in range(10)]\n",
    "print(a)"
   ]
  },
  {
   "cell_type": "code",
   "execution_count": 17,
   "id": "aeda6288",
   "metadata": {},
   "outputs": [
    {
     "name": "stdout",
     "output_type": "stream",
     "text": [
      "[0, 1, 2, 3, 4, 5, 6, 7, 8, 9]\n"
     ]
    }
   ],
   "source": [
    "l=[]\n",
    "for i in range(10):\n",
    "    l.append(i)\n",
    "print(l)"
   ]
  },
  {
   "cell_type": "code",
   "execution_count": 18,
   "id": "baf7c11c",
   "metadata": {},
   "outputs": [
    {
     "name": "stdout",
     "output_type": "stream",
     "text": [
      "[11, 13, 15, 17, 19, 21, 23, 25, 27, 29, 31, 33, 35, 37, 39, 41, 43, 45, 47, 49, 51, 53, 55, 57, 59, 61, 63, 65, 67, 69, 71, 73, 75, 77, 79, 81, 83, 85, 87, 89, 91, 93, 95, 97, 99]\n"
     ]
    }
   ],
   "source": [
    "a=[x for x in range(10,100) if x%2==1]\n",
    "print(a)"
   ]
  },
  {
   "cell_type": "code",
   "execution_count": 19,
   "id": "dbc8742b",
   "metadata": {},
   "outputs": [
    {
     "name": "stdout",
     "output_type": "stream",
     "text": [
      "[11, 13, 15, 17, 19, 21, 23, 25, 27, 29, 31, 33, 35, 37, 39, 41, 43, 45, 47, 49, 51, 53, 55, 57, 59, 61, 63, 65, 67, 69, 71, 73, 75, 77, 79, 81, 83, 85, 87, 89, 91, 93, 95, 97, 99]\n"
     ]
    }
   ],
   "source": [
    "l=[]\n",
    "for i in range(10,100):\n",
    "    if i%2==1:\n",
    "        l.append(i)\n",
    "print(l)"
   ]
  },
  {
   "cell_type": "code",
   "execution_count": 20,
   "id": "013df44a",
   "metadata": {},
   "outputs": [],
   "source": [
    "### bool() identified whether the value is there or not. instead of usinf \n",
    "## len(list)..this can be used in list, tuple, dict, set"
   ]
  },
  {
   "cell_type": "code",
   "execution_count": 22,
   "id": "ce0f2569",
   "metadata": {},
   "outputs": [
    {
     "name": "stdout",
     "output_type": "stream",
     "text": [
      "no value\n"
     ]
    }
   ],
   "source": [
    "a=[]\n",
    "if bool(a):\n",
    "    print(\"value is there\")\n",
    "else:\n",
    "    print(\"no value\")"
   ]
  },
  {
   "cell_type": "code",
   "execution_count": 23,
   "id": "75272018",
   "metadata": {},
   "outputs": [
    {
     "name": "stdout",
     "output_type": "stream",
     "text": [
      "yes\n"
     ]
    }
   ],
   "source": [
    "### IN ..NOT IN\n",
    "a=(\"test\", \"demo\", \"hello\")\n",
    "if \"hi\" not in a:\n",
    "    print(\"yes\")"
   ]
  },
  {
   "cell_type": "code",
   "execution_count": 24,
   "id": "7c8ba4f5",
   "metadata": {},
   "outputs": [
    {
     "name": "stdout",
     "output_type": "stream",
     "text": [
      "{0: 0, 1: 1, 2: 4, 3: 9, 4: 16}\n"
     ]
    }
   ],
   "source": [
    "### dict comprehension\n",
    "a={x: x**2 for x in range(5)}\n",
    "print(a)"
   ]
  },
  {
   "cell_type": "code",
   "execution_count": 28,
   "id": "ab127ff3",
   "metadata": {},
   "outputs": [
    {
     "name": "stdout",
     "output_type": "stream",
     "text": [
      "{'one': 1, 'two': 2, 'three': 3}\n"
     ]
    }
   ],
   "source": [
    "## equal lenght list can be conveterd as dictionary by using zip\n",
    "a=[\"one\",\"two\",\"three\"]\n",
    "b=[1,2,3]\n",
    "c=zip(a,b)\n",
    "print(dict(c))"
   ]
  },
  {
   "cell_type": "code",
   "execution_count": 29,
   "id": "c28f2019",
   "metadata": {},
   "outputs": [
    {
     "name": "stdout",
     "output_type": "stream",
     "text": [
      "23\n"
     ]
    }
   ],
   "source": [
    "## Random\n",
    "import random\n",
    "a=[22,23,44,21,23,43,23,54]\n",
    "print(random.choice(a))"
   ]
  },
  {
   "cell_type": "code",
   "execution_count": 30,
   "id": "bf3b7dc0",
   "metadata": {},
   "outputs": [
    {
     "name": "stdout",
     "output_type": "stream",
     "text": [
      "[43, 21, 23, 22]\n"
     ]
    }
   ],
   "source": [
    "print(random.sample(a,4))"
   ]
  },
  {
   "cell_type": "code",
   "execution_count": 31,
   "id": "3a97fae4",
   "metadata": {},
   "outputs": [
    {
     "name": "stdout",
     "output_type": "stream",
     "text": [
      "[23, 54, 44, 22, 21, 23, 23, 43]\n"
     ]
    }
   ],
   "source": [
    "random.shuffle(a)\n",
    "print(a)"
   ]
  },
  {
   "cell_type": "code",
   "execution_count": 32,
   "id": "9bf2ae59",
   "metadata": {},
   "outputs": [
    {
     "name": "stdout",
     "output_type": "stream",
     "text": [
      "0.7274473634185877\n"
     ]
    }
   ],
   "source": [
    "print(random.random()) # beween 0 to 1 returns the decimal"
   ]
  },
  {
   "cell_type": "code",
   "execution_count": 33,
   "id": "02b6f7a8",
   "metadata": {},
   "outputs": [
    {
     "name": "stdout",
     "output_type": "stream",
     "text": [
      "178\n"
     ]
    }
   ],
   "source": [
    "print(random.randrange(0,500))  ## OTP devices you can give the randrange"
   ]
  },
  {
   "cell_type": "code",
   "execution_count": 34,
   "id": "28039917",
   "metadata": {},
   "outputs": [
    {
     "name": "stdout",
     "output_type": "stream",
     "text": [
      "4.544521606116768\n"
     ]
    }
   ],
   "source": [
    "print(random.uniform(1,5))  ##random decimal between 1 to 5"
   ]
  },
  {
   "cell_type": "code",
   "execution_count": 35,
   "id": "30b0740d",
   "metadata": {},
   "outputs": [
    {
     "name": "stdout",
     "output_type": "stream",
     "text": [
      "Z\n",
      "3\n"
     ]
    }
   ],
   "source": [
    "import string\n",
    "import random\n",
    "print(random.choice(string.ascii_letters)) ## randomly generate the letters from a-z,A-Z\n",
    "print(random.randint(0,9))"
   ]
  },
  {
   "cell_type": "code",
   "execution_count": 36,
   "id": "63232bf3",
   "metadata": {},
   "outputs": [
    {
     "name": "stdout",
     "output_type": "stream",
     "text": [
      "hellothis\n"
     ]
    }
   ],
   "source": [
    "##convert list to string\n",
    "a=[\"hello\", \"this\"]\n",
    "print(\"\".join(a))"
   ]
  },
  {
   "cell_type": "code",
   "execution_count": 38,
   "id": "bc65d1b8",
   "metadata": {},
   "outputs": [
    {
     "data": {
      "text/plain": [
       "'bjTYRHZkDJ'"
      ]
     },
     "execution_count": 38,
     "metadata": {},
     "output_type": "execute_result"
    }
   ],
   "source": [
    "## Password random generator\n",
    "\"\".join(random.choice(string.ascii_letters) for i in range(10))"
   ]
  },
  {
   "cell_type": "code",
   "execution_count": 41,
   "id": "b9a38393",
   "metadata": {},
   "outputs": [
    {
     "name": "stdout",
     "output_type": "stream",
     "text": [
      "/,<\n"
     ]
    }
   ],
   "source": [
    "print(\"\".join(random.choice(string.punctuation) for i in range(3)))"
   ]
  },
  {
   "cell_type": "code",
   "execution_count": 43,
   "id": "ed79bcbf",
   "metadata": {},
   "outputs": [
    {
     "name": "stdout",
     "output_type": "stream",
     "text": [
      "846\n"
     ]
    }
   ],
   "source": [
    "print(\"\".join(random.choice(string.digits) for i in range(3)))"
   ]
  },
  {
   "cell_type": "code",
   "execution_count": 46,
   "id": "ff2bffa0",
   "metadata": {},
   "outputs": [
    {
     "name": "stdout",
     "output_type": "stream",
     "text": [
      "bQzQDxSknP@:@307\n"
     ]
    }
   ],
   "source": [
    "pwd=\"\".join(random.choice(string.ascii_letters) for i in range(10)) + \\\n",
    "    \"\".join(random.choice(string.punctuation) for i in range(3)) + \\\n",
    "    \"\".join(random.choice(string.digits) for i in range(3))\n",
    "\n",
    "print(pwd)"
   ]
  },
  {
   "cell_type": "code",
   "execution_count": 47,
   "id": "68ef513c",
   "metadata": {},
   "outputs": [
    {
     "name": "stdout",
     "output_type": "stream",
     "text": [
      "Q0b3P:@QD@nxz7Sk\n"
     ]
    }
   ],
   "source": [
    "pwd=(list(pwd))\n",
    "random.shuffle(pwd)\n",
    "print(\"\".join(pwd))"
   ]
  },
  {
   "cell_type": "code",
   "execution_count": 53,
   "id": "517c4edf",
   "metadata": {},
   "outputs": [
    {
     "name": "stdout",
     "output_type": "stream",
     "text": [
      "23\n",
      "-22\n",
      "22\n",
      "22\n",
      "-23\n",
      "22\n"
     ]
    }
   ],
   "source": [
    "### Math for round off\n",
    "import math\n",
    "print(math.ceil(22.09))\n",
    "print(math.ceil(-22.08))\n",
    "print(math.ceil(22))\n",
    "print(math.floor(22.09))\n",
    "print(math.floor(-22.08))\n",
    "print(math.floor(22))"
   ]
  },
  {
   "cell_type": "code",
   "execution_count": 51,
   "id": "88ac4f47",
   "metadata": {},
   "outputs": [
    {
     "name": "stdout",
     "output_type": "stream",
     "text": [
      "22\n",
      "23\n"
     ]
    }
   ],
   "source": [
    "print(round(22.09))\n",
    "print(round(22.52))"
   ]
  },
  {
   "cell_type": "code",
   "execution_count": 1,
   "id": "01b64ecf",
   "metadata": {},
   "outputs": [],
   "source": [
    "##File Handling\n",
    "## Read mode\n",
    "## write mode - Delete\n",
    "\n",
    "\n",
    "## assignment\n",
    "\n",
    "## file 1 : has email (duplicates)\n",
    "## file 2 : has email (duplicates)\n",
    "## output : comon user name in both the file\n",
    "#dinesh@gmail\n",
    "#dinesh@yahoo\n"
   ]
  },
  {
   "cell_type": "code",
   "execution_count": 4,
   "id": "e7bd2d74",
   "metadata": {},
   "outputs": [
    {
     "name": "stdout",
     "output_type": "stream",
     "text": [
      "hello welcome\n",
      "\n",
      "python course\n"
     ]
    }
   ],
   "source": [
    "## File handling. \n",
    "#pathname either use recursive(as mentioned below or use double backward slash\\\\)\n",
    "#file = open(r\"C:\\Users\\rsana\\ana_wrk\\sample.txt\",\"r\")\n",
    "file = open(\"C:\\\\Users\\\\rsana\\\\ana_wrk\\\\sample.txt\",\"r\")\n",
    "for i in file:\n",
    "    print(i)\n",
    "file.close()"
   ]
  },
  {
   "cell_type": "code",
   "execution_count": 5,
   "id": "65f5c238",
   "metadata": {},
   "outputs": [],
   "source": [
    "# write, if file is present it will delete the current file and creates a new one\n",
    "#if file is not present then it will create a new one\n",
    "file = open(r\"C:\\Users\\rsana\\ana_wrk\\demo.txt\",\"w\")\n",
    "file.write(\"hello\\nwelcome\")\n",
    "file.close()"
   ]
  },
  {
   "cell_type": "code",
   "execution_count": 6,
   "id": "45eeddbe",
   "metadata": {},
   "outputs": [],
   "source": [
    "#append mode\n",
    "file = open(r\"C:\\Users\\rsana\\ana_wrk\\demo.txt\",\"a\")\n",
    "file.write(\"python\\ncourse\")\n",
    "file.close()"
   ]
  },
  {
   "cell_type": "code",
   "execution_count": 5,
   "id": "c76e2577",
   "metadata": {},
   "outputs": [
    {
     "data": {
      "text/html": [
       "<div>\n",
       "<style scoped>\n",
       "    .dataframe tbody tr th:only-of-type {\n",
       "        vertical-align: middle;\n",
       "    }\n",
       "\n",
       "    .dataframe tbody tr th {\n",
       "        vertical-align: top;\n",
       "    }\n",
       "\n",
       "    .dataframe thead th {\n",
       "        text-align: right;\n",
       "    }\n",
       "</style>\n",
       "<table border=\"1\" class=\"dataframe\">\n",
       "  <thead>\n",
       "    <tr style=\"text-align: right;\">\n",
       "      <th></th>\n",
       "      <th>id</th>\n",
       "      <th>score</th>\n",
       "    </tr>\n",
       "  </thead>\n",
       "  <tbody>\n",
       "    <tr>\n",
       "      <th>count</th>\n",
       "      <td>5.000000</td>\n",
       "      <td>5.000000</td>\n",
       "    </tr>\n",
       "    <tr>\n",
       "      <th>mean</th>\n",
       "      <td>3.000000</td>\n",
       "      <td>35.400000</td>\n",
       "    </tr>\n",
       "    <tr>\n",
       "      <th>std</th>\n",
       "      <td>1.581139</td>\n",
       "      <td>8.203658</td>\n",
       "    </tr>\n",
       "    <tr>\n",
       "      <th>min</th>\n",
       "      <td>1.000000</td>\n",
       "      <td>23.000000</td>\n",
       "    </tr>\n",
       "    <tr>\n",
       "      <th>25%</th>\n",
       "      <td>2.000000</td>\n",
       "      <td>34.000000</td>\n",
       "    </tr>\n",
       "    <tr>\n",
       "      <th>50%</th>\n",
       "      <td>3.000000</td>\n",
       "      <td>35.000000</td>\n",
       "    </tr>\n",
       "    <tr>\n",
       "      <th>75%</th>\n",
       "      <td>4.000000</td>\n",
       "      <td>40.000000</td>\n",
       "    </tr>\n",
       "    <tr>\n",
       "      <th>max</th>\n",
       "      <td>5.000000</td>\n",
       "      <td>45.000000</td>\n",
       "    </tr>\n",
       "  </tbody>\n",
       "</table>\n",
       "</div>"
      ],
      "text/plain": [
       "             id      score\n",
       "count  5.000000   5.000000\n",
       "mean   3.000000  35.400000\n",
       "std    1.581139   8.203658\n",
       "min    1.000000  23.000000\n",
       "25%    2.000000  34.000000\n",
       "50%    3.000000  35.000000\n",
       "75%    4.000000  40.000000\n",
       "max    5.000000  45.000000"
      ]
     },
     "execution_count": 5,
     "metadata": {},
     "output_type": "execute_result"
    }
   ],
   "source": [
    "#Read csv file using Pandas\n",
    "import pandas as pd\n",
    "data = pd.read_csv(r\"C:\\Users\\rsana\\ana_wrk\\sample.csv\")\n",
    "data  # prints the tabular format of the content\n",
    "data.describe() #for datascience purpose for int/float columns"
   ]
  },
  {
   "cell_type": "code",
   "execution_count": 13,
   "id": "31bef09f",
   "metadata": {},
   "outputs": [
    {
     "data": {
      "text/plain": [
       "0    23\n",
       "1    34\n",
       "2    35\n",
       "3    45\n",
       "4    40\n",
       "Name: score, dtype: int64"
      ]
     },
     "execution_count": 13,
     "metadata": {},
     "output_type": "execute_result"
    }
   ],
   "source": [
    "data['score']"
   ]
  },
  {
   "cell_type": "code",
   "execution_count": 14,
   "id": "ec651d49",
   "metadata": {},
   "outputs": [
    {
     "name": "stdout",
     "output_type": "stream",
     "text": [
      "<class 'pandas.core.frame.DataFrame'>\n"
     ]
    }
   ],
   "source": [
    "print(type(data))"
   ]
  },
  {
   "cell_type": "code",
   "execution_count": 7,
   "id": "50466e91",
   "metadata": {},
   "outputs": [
    {
     "data": {
      "text/html": [
       "<div>\n",
       "<style scoped>\n",
       "    .dataframe tbody tr th:only-of-type {\n",
       "        vertical-align: middle;\n",
       "    }\n",
       "\n",
       "    .dataframe tbody tr th {\n",
       "        vertical-align: top;\n",
       "    }\n",
       "\n",
       "    .dataframe thead th {\n",
       "        text-align: right;\n",
       "    }\n",
       "</style>\n",
       "<table border=\"1\" class=\"dataframe\">\n",
       "  <thead>\n",
       "    <tr style=\"text-align: right;\">\n",
       "      <th></th>\n",
       "      <th>min(score)</th>\n",
       "    </tr>\n",
       "  </thead>\n",
       "  <tbody>\n",
       "    <tr>\n",
       "      <th>0</th>\n",
       "      <td>23</td>\n",
       "    </tr>\n",
       "  </tbody>\n",
       "</table>\n",
       "</div>"
      ],
      "text/plain": [
       "   min(score)\n",
       "0          23"
      ]
     },
     "execution_count": 7,
     "metadata": {},
     "output_type": "execute_result"
    }
   ],
   "source": [
    "import pandasql\n",
    "from pandasql import sqldf\n",
    "a=sqldf(\"select min(score) from data\")\n",
    "a"
   ]
  },
  {
   "cell_type": "code",
   "execution_count": 1,
   "id": "f170d5d0",
   "metadata": {},
   "outputs": [],
   "source": [
    "import pandasql"
   ]
  },
  {
   "cell_type": "code",
   "execution_count": 19,
   "id": "2e2badca",
   "metadata": {},
   "outputs": [
    {
     "data": {
      "text/plain": [
       "'1.4.4'"
      ]
     },
     "execution_count": 19,
     "metadata": {},
     "output_type": "execute_result"
    }
   ],
   "source": [
    "pd.__version__"
   ]
  },
  {
   "cell_type": "code",
   "execution_count": 20,
   "id": "6d931d65",
   "metadata": {},
   "outputs": [
    {
     "data": {
      "text/plain": [
       "<AxesSubplot:>"
      ]
     },
     "execution_count": 20,
     "metadata": {},
     "output_type": "execute_result"
    },
    {
     "data": {
      "image/png": "[encoded data removed]",
      "text/plain": [
       "<Figure size 640x480 with 1 Axes>"
      ]
     },
     "metadata": {},
     "output_type": "display_data"
    }
   ],
   "source": [
    "data.plot()"
   ]
  },
  {
   "cell_type": "code",
   "execution_count": null,
   "id": "1ec231f3",
   "metadata": {},
   "outputs": [],
   "source": []
  }
 ],
 "metadata": {
  "kernelspec": {
   "display_name": "Python 3 (ipykernel)",
   "language": "python",
   "name": "python3"
  },
  "language_info": {
   "codemirror_mode": {
    "name": "ipython",
    "version": 3
   },
   "file_extension": ".py",
   "mimetype": "text/x-python",
   "name": "python",
   "nbconvert_exporter": "python",
   "pygments_lexer": "ipython3",
   "version": "3.9.13"
  }
 },
 "nbformat": 4,
 "nbformat_minor": 5
}
