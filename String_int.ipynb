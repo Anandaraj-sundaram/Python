{
 "cells": [
  {
   "cell_type": "code",
   "execution_count": 1,
   "id": "69a8c09e",
   "metadata": {},
   "outputs": [],
   "source": [
    "a = \"test\""
   ]
  },
  {
   "cell_type": "code",
   "execution_count": 2,
   "id": "2b0ab0fc",
   "metadata": {},
   "outputs": [
    {
     "name": "stdout",
     "output_type": "stream",
     "text": [
      "<class 'str'>\n"
     ]
    }
   ],
   "source": [
    "print(type(a))"
   ]
  },
  {
   "cell_type": "code",
   "execution_count": 3,
   "id": "e63e76c7",
   "metadata": {},
   "outputs": [
    {
     "name": "stdout",
     "output_type": "stream",
     "text": [
      "True\n"
     ]
    }
   ],
   "source": [
    "print(isinstance(a,str))"
   ]
  },
  {
   "cell_type": "code",
   "execution_count": 5,
   "id": "d0aaf198",
   "metadata": {},
   "outputs": [],
   "source": [
    "a=\"Sachin Tendulkar\""
   ]
  },
  {
   "cell_type": "code",
   "execution_count": 6,
   "id": "249b16ea",
   "metadata": {},
   "outputs": [
    {
     "name": "stdout",
     "output_type": "stream",
     "text": [
      "16\n",
      " \n",
      "u\n",
      "[' ', 'S', 'T', 'a', 'a', 'c', 'd', 'e', 'h', 'i', 'k', 'l', 'n', 'n', 'r', 'u']\n"
     ]
    }
   ],
   "source": [
    "print(len(a)) #length\n",
    "print(min(a)) #minimum\n",
    "print(max(a)) #maximum\n",
    "print(sorted(a)) #sorts in ascending order based on ASCII "
   ]
  },
  {
   "cell_type": "code",
   "execution_count": 8,
   "id": "6adf9c63",
   "metadata": {},
   "outputs": [
    {
     "name": "stdout",
     "output_type": "stream",
     "text": [
      "False\n",
      "True\n",
      "False\n"
     ]
    }
   ],
   "source": [
    "a=\"Sachin13\"\n",
    "print(a.isalpha()) # checks the string is alphabatic or not\n",
    "print(a.isalnum()) #checks the string is alpha or numeric\n",
    "print(a.isdigit()) #checks the string has numbers"
   ]
  },
  {
   "cell_type": "code",
   "execution_count": 9,
   "id": "43e84933",
   "metadata": {},
   "outputs": [
    {
     "name": "stdout",
     "output_type": "stream",
     "text": [
      "False\n",
      "False\n",
      "SACHIN13\n",
      "sachin13\n",
      "sACHIN13\n"
     ]
    }
   ],
   "source": [
    "print(a.isupper())\n",
    "print(a.islower())\n",
    "print(a.upper())\n",
    "print(a.lower())\n",
    "print(a.swapcase())  #swaps the case from lower to upper or upper to lower\n"
   ]
  },
  {
   "cell_type": "code",
   "execution_count": 10,
   "id": "10be6bf2",
   "metadata": {},
   "outputs": [
    {
     "name": "stdout",
     "output_type": "stream",
     "text": [
      "Welcome To Today'S Class\n",
      "Welcome to today's class\n"
     ]
    }
   ],
   "source": [
    "a=\"welcome to today's class\"\n",
    "print(a.title())  # first letter of words will be capital\n",
    "print(a.capitalize()) # Each sentence first word's letter will be capital"
   ]
  },
  {
   "cell_type": "code",
   "execution_count": 11,
   "id": "35ce9660",
   "metadata": {},
   "outputs": [],
   "source": [
    "# Forward Indexing\n",
    "#---------------------->\n",
    "# 0 1 2 3 4 5\n",
    "#P Y T H O N\n",
    "#-6 -5 -4 -3 -2 -1\n",
    "#<----------------------\n",
    "#REVERSE Indexing"
   ]
  },
  {
   "cell_type": "code",
   "execution_count": 12,
   "id": "8551324c",
   "metadata": {},
   "outputs": [
    {
     "name": "stdout",
     "output_type": "stream",
     "text": [
      "T\n"
     ]
    }
   ],
   "source": [
    "a=\"SachinTendulkar\"\n",
    "print(a[6])"
   ]
  },
  {
   "cell_type": "code",
   "execution_count": 20,
   "id": "6a4fa3dd",
   "metadata": {},
   "outputs": [
    {
     "name": "stdout",
     "output_type": "stream",
     "text": [
      "chinTend\n",
      "SachinTendulkar\n",
      "r\n",
      "ShTdk\n",
      "SachinTendulkar\n",
      "SachinTendulkar\n"
     ]
    }
   ],
   "source": [
    "##start : end  : interval\n",
    "print(a[2:10])\n",
    "print(a[:])  \n",
    "print(a[-1])  #Reverse Indexing\n",
    "print(a[::3]) #Interval\n",
    "print(a)\n",
    "print(a[:])"
   ]
  },
  {
   "cell_type": "code",
   "execution_count": 30,
   "id": "82a1013f",
   "metadata": {},
   "outputs": [
    {
     "name": "stdout",
     "output_type": "stream",
     "text": [
      "rakludneTnihcaS\n",
      "5\n",
      "1\n",
      "13\n"
     ]
    }
   ],
   "source": [
    "print(a[::-1]) #reversing the whole sentence/string\n",
    "print(a.index(\"n\"))\n",
    "print(a.index(\"a\"))\n",
    "#print(a.index(\"a\",start,end))\n",
    "print(a.index(\"a\",2,14))"
   ]
  },
  {
   "cell_type": "code",
   "execution_count": 29,
   "id": "c2ccef3e",
   "metadata": {},
   "outputs": [
    {
     "ename": "ValueError",
     "evalue": "substring not found",
     "output_type": "error",
     "traceback": [
      "\u001b[1;31m---------------------------------------------------------------------------\u001b[0m",
      "\u001b[1;31mValueError\u001b[0m                                Traceback (most recent call last)",
      "\u001b[1;32m~\\AppData\\Local\\Temp\\ipykernel_25688\\1437915082.py\u001b[0m in \u001b[0;36m<module>\u001b[1;34m\u001b[0m\n\u001b[1;32m----> 1\u001b[1;33m \u001b[0mprint\u001b[0m\u001b[1;33m(\u001b[0m\u001b[0ma\u001b[0m\u001b[1;33m.\u001b[0m\u001b[0mindex\u001b[0m\u001b[1;33m(\u001b[0m\u001b[1;34m\"z\"\u001b[0m\u001b[1;33m)\u001b[0m\u001b[1;33m)\u001b[0m\u001b[1;33m\u001b[0m\u001b[1;33m\u001b[0m\u001b[0m\n\u001b[0m",
      "\u001b[1;31mValueError\u001b[0m: substring not found"
     ]
    }
   ],
   "source": [
    "print(a.index(\"z\"))"
   ]
  },
  {
   "cell_type": "code",
   "execution_count": 31,
   "id": "8b92b05a",
   "metadata": {},
   "outputs": [
    {
     "name": "stdout",
     "output_type": "stream",
     "text": [
      "rakludneTnihcaS\n",
      "8\n",
      "13\n"
     ]
    }
   ],
   "source": [
    "print(a[::-1]) #reversing the whole sentence/string\n",
    "print(a.rindex(\"n\")) # reverse index happens but displays only forward index number\n",
    "print(a.rindex(\"a\"))\n",
    "#print(a.index(\"a\",start,end))\n",
    "#print(a.index(\"a\",2,14))"
   ]
  },
  {
   "cell_type": "code",
   "execution_count": 35,
   "id": "ce7d1c8c",
   "metadata": {},
   "outputs": [
    {
     "name": "stdout",
     "output_type": "stream",
     "text": [
      "5\n",
      "5\n",
      "-1\n",
      "8\n",
      "8\n",
      "-1\n"
     ]
    }
   ],
   "source": [
    "##find, rfind\n",
    "#find and index is same - unless find returns -1 if the substring is not found\n",
    "print(a.index(\"n\"))\n",
    "print(a.find(\"n\"))\n",
    "print(a.find(\"z\"))\n",
    "print(a.rindex(\"n\"))\n",
    "print(a.rfind(\"n\"))\n",
    "print(a.rfind(\"z\"))"
   ]
  },
  {
   "cell_type": "code",
   "execution_count": 36,
   "id": "53ddf12c",
   "metadata": {},
   "outputs": [
    {
     "name": "stdout",
     "output_type": "stream",
     "text": [
      "3\n",
      "S$chinTe$ndulk$r\n",
      "S$chinTeandulkar\n",
      "S$chinTe$ndulkar\n",
      "['S', 'chinTe', 'ndulk', 'r']\n",
      "['S', 'chinTeandulkar']\n"
     ]
    }
   ],
   "source": [
    "a=\"SachinTeandulkar\"\n",
    "print(a.count(\"a\")) # counts a word\n",
    "print(a.replace(\"a\",\"$\")) ## find and replace\n",
    "print(a.replace(\"a\",\"$\",1)) #find and replace first occurence\n",
    "print(a.replace(\"a\",\"$\",2)) #find and replace first two occurence\n",
    "print(a.split(\"a\")) #split the occurence\n",
    "print(a.split(\"a\",1))#split based on the first occurence"
   ]
  },
  {
   "cell_type": "code",
   "execution_count": 38,
   "id": "3e22ba83",
   "metadata": {},
   "outputs": [
    {
     "name": "stdout",
     "output_type": "stream",
     "text": [
      "True\n",
      "False\n"
     ]
    }
   ],
   "source": [
    "print(a.startswith(\"S\")) #Case sensitive\n",
    "print(a.endswith(\"r\"))"
   ]
  },
  {
   "cell_type": "code",
   "execution_count": 48,
   "id": "7ed94ca7",
   "metadata": {},
   "outputs": [
    {
     "name": "stdout",
     "output_type": "stream",
     "text": [
      "Good Morning Anand, Have a great Sunday\n",
      "Good Morning Sunday, Have a great Anand\n"
     ]
    }
   ],
   "source": [
    "#Formatting in String\n",
    "print(\"Good Morning {}, Have a great {}\".format(\"Anand\",\"Sunday\"))\n",
    "print(\"Good Morning {1}, Have a great {0}\".format(\"Anand\",\"Sunday\"))"
   ]
  },
  {
   "cell_type": "code",
   "execution_count": 46,
   "id": "486021cc",
   "metadata": {},
   "outputs": [
    {
     "name": "stdout",
     "output_type": "stream",
     "text": [
      "Good Morning Anand,have a great sunday\n"
     ]
    }
   ],
   "source": [
    "name = \"Anand\"\n",
    "day = \"sunday\"\n",
    "print(f\"Good Morning {name},have a great {day}\")"
   ]
  },
  {
   "cell_type": "code",
   "execution_count": 51,
   "id": "d192fcf5",
   "metadata": {},
   "outputs": [
    {
     "name": "stdout",
     "output_type": "stream",
     "text": [
      "False\n",
      "<class 'str'>\n"
     ]
    }
   ],
   "source": [
    "### Int\n",
    "a=123\n",
    "#a=\"123\"\n",
    "print(isinstance(a,int))\n",
    "print(type(a))"
   ]
  },
  {
   "cell_type": "code",
   "execution_count": 54,
   "id": "9e0a4abf",
   "metadata": {},
   "outputs": [
    {
     "name": "stdout",
     "output_type": "stream",
     "text": [
      "True\n"
     ]
    }
   ],
   "source": [
    "b=\"123\"\n",
    "print(b.isdigit())\n",
    "a=123\n",
    "#print(a.isdigit())"
   ]
  },
  {
   "cell_type": "code",
   "execution_count": 57,
   "id": "92f8d1ee",
   "metadata": {},
   "outputs": [
    {
     "name": "stdout",
     "output_type": "stream",
     "text": [
      "<class 'float'>\n",
      "123\n",
      "123.0\n"
     ]
    },
    {
     "ename": "ValueError",
     "evalue": "invalid literal for int() with base 10: 'test'",
     "output_type": "error",
     "traceback": [
      "\u001b[1;31m---------------------------------------------------------------------------\u001b[0m",
      "\u001b[1;31mValueError\u001b[0m                                Traceback (most recent call last)",
      "\u001b[1;32m~\\AppData\\Local\\Temp\\ipykernel_25688\\2247236525.py\u001b[0m in \u001b[0;36m<module>\u001b[1;34m\u001b[0m\n\u001b[0;32m      6\u001b[0m \u001b[0mprint\u001b[0m\u001b[1;33m(\u001b[0m\u001b[0mfloat\u001b[0m\u001b[1;33m(\u001b[0m\u001b[0ma\u001b[0m\u001b[1;33m)\u001b[0m\u001b[1;33m)\u001b[0m\u001b[1;33m\u001b[0m\u001b[1;33m\u001b[0m\u001b[0m\n\u001b[0;32m      7\u001b[0m \u001b[0ma\u001b[0m\u001b[1;33m=\u001b[0m\u001b[1;34m\"test\"\u001b[0m\u001b[1;33m\u001b[0m\u001b[1;33m\u001b[0m\u001b[0m\n\u001b[1;32m----> 8\u001b[1;33m \u001b[0mprint\u001b[0m\u001b[1;33m(\u001b[0m\u001b[0mint\u001b[0m\u001b[1;33m(\u001b[0m\u001b[0ma\u001b[0m\u001b[1;33m)\u001b[0m\u001b[1;33m)\u001b[0m\u001b[1;33m\u001b[0m\u001b[1;33m\u001b[0m\u001b[0m\n\u001b[0m",
      "\u001b[1;31mValueError\u001b[0m: invalid literal for int() with base 10: 'test'"
     ]
    }
   ],
   "source": [
    "#TYPE CASTING\n",
    "a=123.45\n",
    "print(type(a))\n",
    "a=\"123\"\n",
    "print(int(a))\n",
    "print(float(a))\n",
    "a=\"test\"\n",
    "print(int(a))"
   ]
  },
  {
   "cell_type": "code",
   "execution_count": null,
   "id": "4677578b",
   "metadata": {},
   "outputs": [],
   "source": [
    "#Get input from user\n",
    "a=input(\"Enter user name: \")"
   ]
  },
  {
   "cell_type": "code",
   "execution_count": 60,
   "id": "d305b0a2",
   "metadata": {},
   "outputs": [
    {
     "name": "stdout",
     "output_type": "stream",
     "text": [
      "<class 'str'>\n",
      "Anandaraj\n"
     ]
    }
   ],
   "source": [
    "print(type(a))\n",
    "print(a)"
   ]
  },
  {
   "cell_type": "code",
   "execution_count": null,
   "id": "d2b07030",
   "metadata": {},
   "outputs": [],
   "source": []
  }
 ],
 "metadata": {
  "kernelspec": {
   "display_name": "Python 3 (ipykernel)",
   "language": "python",
   "name": "python3"
  },
  "language_info": {
   "codemirror_mode": {
    "name": "ipython",
    "version": 3
   },
   "file_extension": ".py",
   "mimetype": "text/x-python",
   "name": "python",
   "nbconvert_exporter": "python",
   "pygments_lexer": "ipython3",
   "version": "3.9.13"
  }
 },
 "nbformat": 4,
 "nbformat_minor": 5
}
