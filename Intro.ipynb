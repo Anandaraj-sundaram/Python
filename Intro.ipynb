{
 "cells": [
  {
   "cell_type": "code",
   "execution_count": 1,
   "id": "8c1b1c94",
   "metadata": {},
   "outputs": [
    {
     "name": "stdout",
     "output_type": "stream",
     "text": [
      "Hello\n"
     ]
    }
   ],
   "source": [
    "print(\"Hello\")"
   ]
  },
  {
   "cell_type": "code",
   "execution_count": 3,
   "id": "23e3a87a",
   "metadata": {},
   "outputs": [
    {
     "name": "stdout",
     "output_type": "stream",
     "text": [
      "Hi\n",
      "Welcome\n"
     ]
    }
   ],
   "source": [
    "# print(\"Hi\")\n",
    "# print(\"Hello\")\n",
    "# print(\"Welcome\")"
   ]
  },
  {
   "cell_type": "code",
   "execution_count": 5,
   "id": "0c32ae34",
   "metadata": {},
   "outputs": [
    {
     "ename": "SyntaxError",
     "evalue": "invalid syntax (1982783337.py, line 3)",
     "output_type": "error",
     "traceback": [
      "\u001b[1;36m  File \u001b[1;32m\"C:\\Users\\rsana\\AppData\\Local\\Temp\\ipykernel_34636\\1982783337.py\"\u001b[1;36m, line \u001b[1;32m3\u001b[0m\n\u001b[1;33m    Ctrl + /  group comment and uncomment shortcut key\u001b[0m\n\u001b[1;37m           ^\u001b[0m\n\u001b[1;31mSyntaxError\u001b[0m\u001b[1;31m:\u001b[0m invalid syntax\n"
     ]
    }
   ],
   "source": [
    "## Multiline comment ==> shift double quotes three times (3 double quotes at start and three double quotes at end)\n",
    "# single line comment\n",
    "Ctrl + /  group comment and uncomment shortcut key\n",
    "Shift + 3 comment shorttcut\n",
    "shift + enter  ==> Run"
   ]
  },
  {
   "cell_type": "code",
   "execution_count": 6,
   "id": "49923edd",
   "metadata": {},
   "outputs": [
    {
     "data": {
      "text/plain": [
       "'\\nauthor:\\nname\\n'"
      ]
     },
     "execution_count": 6,
     "metadata": {},
     "output_type": "execute_result"
    }
   ],
   "source": [
    "\"\"\"\n",
    "author:\n",
    "name  it wont execute...but just shows in Jnotebook\n",
    "\"\"\""
   ]
  },
  {
   "cell_type": "code",
   "execution_count": 7,
   "id": "06dfa486",
   "metadata": {},
   "outputs": [
    {
     "name": "stdout",
     "output_type": "stream",
     "text": [
      "Hi\n",
      " hello \t welcome  \bname\n"
     ]
    }
   ],
   "source": [
    "# Escape chaacter \\\n",
    "# \\n newline\n",
    "# \\t tab\n",
    "# \\b backspace\n",
    "print (\"Hi\\n hello \\t welcome  \\bname\")"
   ]
  },
  {
   "cell_type": "code",
   "execution_count": 9,
   "id": "929c1bdd",
   "metadata": {},
   "outputs": [
    {
     "name": "stderr",
     "output_type": "stream",
     "text": [
      "This is an error\n",
      "This is an warning\n",
      "This is an critical error\n"
     ]
    }
   ],
   "source": [
    "import logging\n",
    "logger = logging.getLogger()\n",
    "logger.error(\"This is an error\")\n",
    "logger.warning(\"This is an warning\")\n",
    "logger.critical(\"This is an critical error\")"
   ]
  },
  {
   "cell_type": "code",
   "execution_count": null,
   "id": "bcfae372",
   "metadata": {},
   "outputs": [],
   "source": []
  }
 ],
 "metadata": {
  "kernelspec": {
   "display_name": "Python 3 (ipykernel)",
   "language": "python",
   "name": "python3"
  },
  "language_info": {
   "codemirror_mode": {
    "name": "ipython",
    "version": 3
   },
   "file_extension": ".py",
   "mimetype": "text/x-python",
   "name": "python",
   "nbconvert_exporter": "python",
   "pygments_lexer": "ipython3",
   "version": "3.9.13"
  }
 },
 "nbformat": 4,
 "nbformat_minor": 5
}
