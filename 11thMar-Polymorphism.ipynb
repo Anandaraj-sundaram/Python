{
 "cells": [
  {
   "cell_type": "code",
   "execution_count": 1,
   "id": "836c2ed7",
   "metadata": {},
   "outputs": [],
   "source": [
    "## encapsulation\n",
    "\n",
    "## public : can be used anywhere or can be modified anywhere in the code\n",
    "\n",
    "## protected : _ in front ,can be used by the parent and the inherited child class\n",
    "\n",
    "## private : __ in front ,can be used only within the class"
   ]
  },
  {
   "cell_type": "code",
   "execution_count": 5,
   "id": "6887902c",
   "metadata": {},
   "outputs": [
    {
     "name": "stdout",
     "output_type": "stream",
     "text": [
      "dinesh\n",
      "kumar\n"
     ]
    }
   ],
   "source": [
    "##Public\n",
    "\n",
    "class test():\n",
    "    \n",
    "    name = \"dinesh\"\n",
    "    \n",
    "a = test()\n",
    "print(a.name)\n",
    "a.name = \"kumar\"\n",
    "print(a.name)"
   ]
  },
  {
   "cell_type": "code",
   "execution_count": 3,
   "id": "077116d2",
   "metadata": {},
   "outputs": [
    {
     "ename": "AttributeError",
     "evalue": "'test' object has no attribute '__name'",
     "output_type": "error",
     "traceback": [
      "\u001b[1;31m---------------------------------------------------------------------------\u001b[0m",
      "\u001b[1;31mAttributeError\u001b[0m                            Traceback (most recent call last)",
      "\u001b[1;32m~\\AppData\\Local\\Temp\\ipykernel_23072\\828511309.py\u001b[0m in \u001b[0;36m<module>\u001b[1;34m\u001b[0m\n\u001b[0;32m      6\u001b[0m     \u001b[0m__name\u001b[0m \u001b[1;33m=\u001b[0m \u001b[1;34m\"dinesh\"\u001b[0m\u001b[1;33m\u001b[0m\u001b[1;33m\u001b[0m\u001b[0m\n\u001b[0;32m      7\u001b[0m \u001b[0ma\u001b[0m \u001b[1;33m=\u001b[0m \u001b[0mtest\u001b[0m\u001b[1;33m(\u001b[0m\u001b[1;33m)\u001b[0m\u001b[1;33m\u001b[0m\u001b[1;33m\u001b[0m\u001b[0m\n\u001b[1;32m----> 8\u001b[1;33m \u001b[0mprint\u001b[0m\u001b[1;33m(\u001b[0m\u001b[0ma\u001b[0m\u001b[1;33m.\u001b[0m\u001b[0m__name\u001b[0m\u001b[1;33m)\u001b[0m\u001b[1;33m\u001b[0m\u001b[1;33m\u001b[0m\u001b[0m\n\u001b[0m",
      "\u001b[1;31mAttributeError\u001b[0m: 'test' object has no attribute '__name'"
     ]
    }
   ],
   "source": [
    "##private with error\n",
    "\n",
    "## private\n",
    "\n",
    "class test():\n",
    "    __name = \"dinesh\"\n",
    "a = test()\n",
    "print(a.__name)"
   ]
  },
  {
   "cell_type": "code",
   "execution_count": 4,
   "id": "28240a8d",
   "metadata": {},
   "outputs": [
    {
     "name": "stdout",
     "output_type": "stream",
     "text": [
      "dinesh\n",
      "kumar\n"
     ]
    }
   ],
   "source": [
    "##private with example\n",
    "\n",
    "class test():\n",
    "    __name = \"dinesh\"\n",
    "    \n",
    "    def printname(self):\n",
    "        print(self.__name)\n",
    "    def changename(self,a):\n",
    "        self.__name = a\n",
    "        \n",
    "a = test()\n",
    "a.printname()\n",
    "\n",
    "a.changename(\"kumar\")\n",
    "a.printname()"
   ]
  },
  {
   "cell_type": "code",
   "execution_count": 6,
   "id": "9544a64b",
   "metadata": {},
   "outputs": [
    {
     "name": "stdout",
     "output_type": "stream",
     "text": [
      "child\n"
     ]
    }
   ],
   "source": [
    "##polymorphism\n",
    "\n",
    "## method overriding\n",
    "##3.8 onwards there is an option for using method override please explore\n",
    "\n",
    "class parent():\n",
    "    \n",
    "    def name(self):\n",
    "        print(\"parent\")\n",
    "        \n",
    "class child(parent):\n",
    "    def name(self):\n",
    "        print(\"child\")\n",
    "\n",
    "a = child()\n",
    "a.name()"
   ]
  },
  {
   "cell_type": "code",
   "execution_count": 8,
   "id": "bff80553",
   "metadata": {},
   "outputs": [
    {
     "name": "stdout",
     "output_type": "stream",
     "text": [
      "20\n",
      "200\n"
     ]
    }
   ],
   "source": [
    "## method overloading\n",
    "\n",
    "class parent():\n",
    "    \n",
    "    def mul(self,a = 1,b =1,c =10):\n",
    "        print(a*b*c)\n",
    "\n",
    "a = parent()\n",
    "a.mul(1,2)\n",
    "a.mul(5,4)"
   ]
  },
  {
   "cell_type": "code",
   "execution_count": 10,
   "id": "6c8285a4",
   "metadata": {},
   "outputs": [
    {
     "ename": "NameError",
     "evalue": "name 'math' is not defined",
     "output_type": "error",
     "traceback": [
      "\u001b[1;31m---------------------------------------------------------------------------\u001b[0m",
      "\u001b[1;31mNameError\u001b[0m                                 Traceback (most recent call last)",
      "\u001b[1;32m~\\AppData\\Local\\Temp\\ipykernel_23072\\402586104.py\u001b[0m in \u001b[0;36m<module>\u001b[1;34m\u001b[0m\n\u001b[1;32m----> 1\u001b[1;33m \u001b[0mdir\u001b[0m\u001b[1;33m(\u001b[0m\u001b[0mmath\u001b[0m\u001b[1;33m)\u001b[0m\u001b[1;33m\u001b[0m\u001b[1;33m\u001b[0m\u001b[0m\n\u001b[0m",
      "\u001b[1;31mNameError\u001b[0m: name 'math' is not defined"
     ]
    }
   ],
   "source": [
    "dir(math)"
   ]
  },
  {
   "cell_type": "code",
   "execution_count": null,
   "id": "43143db3",
   "metadata": {},
   "outputs": [],
   "source": []
  }
 ],
 "metadata": {
  "kernelspec": {
   "display_name": "Python 3 (ipykernel)",
   "language": "python",
   "name": "python3"
  },
  "language_info": {
   "codemirror_mode": {
    "name": "ipython",
    "version": 3
   },
   "file_extension": ".py",
   "mimetype": "text/x-python",
   "name": "python",
   "nbconvert_exporter": "python",
   "pygments_lexer": "ipython3",
   "version": "3.9.13"
  }
 },
 "nbformat": 4,
 "nbformat_minor": 5
}
