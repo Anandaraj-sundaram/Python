{
 "cells": [
  {
   "cell_type": "code",
   "execution_count": 1,
   "id": "0121a0d5",
   "metadata": {},
   "outputs": [
    {
     "data": {
      "text/plain": [
       "'But in function both truck and car will be in the same file\\nex: def truck_speed():\\n        print(\"truck speed logic\")\\n    def car_speed():\\n        print(\"car speed logic\")'"
      ]
     },
     "execution_count": 1,
     "metadata": {},
     "output_type": "execute_result"
    }
   ],
   "source": [
    "##class\n",
    "##object\n",
    "#function : group of lines doing same logic - line reduction\n",
    "# class : group of functions releated to particular object\n",
    "# truck - 100 operations\n",
    "# car - 100 operations\n",
    "# truck : funct - file1\n",
    "# car - funct - file2\n",
    "##group of function doing a same logic for an object\n",
    "\"\"\"But in function both truck and car will be in the same file\n",
    "ex: def truck_speed():\n",
    "        print(\"truck speed logic\")\n",
    "    def car_speed():\n",
    "        print(\"car speed logic\")\"\"\"\n",
    "        "
   ]
  },
  {
   "cell_type": "code",
   "execution_count": 2,
   "id": "2187ec5f",
   "metadata": {},
   "outputs": [],
   "source": [
    "class truck():\n",
    "    def speed(self): #self is a keyword.not an argument Spped is called method we should not say its a function\n",
    "        print(\"truck speed is 100 km/hr\")\n",
    "    def fuel_cap(self):\n",
    "        print(\"fuel cap is 50 1\")"
   ]
  },
  {
   "cell_type": "code",
   "execution_count": 3,
   "id": "a8103c6c",
   "metadata": {},
   "outputs": [],
   "source": [
    "class car():\n",
    "    def speed(self): #self is a keyword.not an argument Spped is called method we should not say its a function\n",
    "        print(\"car speed is 100 km/hr\")\n",
    "    def fuel_cap(self):\n",
    "        print(\"fuel cap is 15 1\")"
   ]
  },
  {
   "cell_type": "code",
   "execution_count": 4,
   "id": "b5ff316d",
   "metadata": {},
   "outputs": [
    {
     "name": "stdout",
     "output_type": "stream",
     "text": [
      "<class '__main__.truck'>\n",
      "<__main__.truck object at 0x000001CAB6C1C070>\n"
     ]
    }
   ],
   "source": [
    "a = truck()  # initializing the class..a is called object\n",
    "print(truck)  ##class\n",
    "print(a)  ## object"
   ]
  },
  {
   "cell_type": "code",
   "execution_count": 5,
   "id": "dd8cb4d0",
   "metadata": {},
   "outputs": [
    {
     "name": "stdout",
     "output_type": "stream",
     "text": [
      "truck speed is 100 km/hr\n",
      "fuel cap is 50 1\n"
     ]
    }
   ],
   "source": [
    "a.speed()\n",
    "a.fuel_cap()"
   ]
  },
  {
   "cell_type": "code",
   "execution_count": 7,
   "id": "04c040a7",
   "metadata": {},
   "outputs": [
    {
     "name": "stdout",
     "output_type": "stream",
     "text": [
      "<class 'str'>\n"
     ]
    },
    {
     "data": {
      "text/plain": [
       "True"
      ]
     },
     "execution_count": 7,
     "metadata": {},
     "output_type": "execute_result"
    }
   ],
   "source": [
    "a=\"test\"\n",
    "print(type(a)) ## Print is a in buit function a is an class/object\n",
    "a.isalpha() ##inbuild class. isaplpha is a method. a is an object"
   ]
  },
  {
   "cell_type": "code",
   "execution_count": 14,
   "id": "7b0c9325",
   "metadata": {},
   "outputs": [],
   "source": [
    "class calc():\n",
    "    def add(self,a,b):\n",
    "        return a+b\n",
    "    def sub(self,a,b):\n",
    "        return a-b\n",
    "    def mul(self,a,b):\n",
    "        return a*b\n",
    "    def div(self,a,b):\n",
    "        return a/b"
   ]
  },
  {
   "cell_type": "code",
   "execution_count": 20,
   "id": "8f070609",
   "metadata": {},
   "outputs": [
    {
     "name": "stdout",
     "output_type": "stream",
     "text": [
      "9\n",
      "<class 'int'>\n"
     ]
    }
   ],
   "source": [
    "obj = calc()\n",
    "a = obj.add(5,4)\n",
    "print(a)\n",
    "print(type(a))"
   ]
  },
  {
   "cell_type": "code",
   "execution_count": 21,
   "id": "ef06d9b1",
   "metadata": {},
   "outputs": [
    {
     "data": {
      "text/plain": [
       "['__class__',\n",
       " '__delattr__',\n",
       " '__dict__',\n",
       " '__dir__',\n",
       " '__doc__',\n",
       " '__eq__',\n",
       " '__format__',\n",
       " '__ge__',\n",
       " '__getattribute__',\n",
       " '__gt__',\n",
       " '__hash__',\n",
       " '__init__',\n",
       " '__init_subclass__',\n",
       " '__le__',\n",
       " '__lt__',\n",
       " '__module__',\n",
       " '__ne__',\n",
       " '__new__',\n",
       " '__reduce__',\n",
       " '__reduce_ex__',\n",
       " '__repr__',\n",
       " '__setattr__',\n",
       " '__sizeof__',\n",
       " '__str__',\n",
       " '__subclasshook__',\n",
       " '__weakref__',\n",
       " 'add',\n",
       " 'div',\n",
       " 'mul',\n",
       " 'sub']"
      ]
     },
     "execution_count": 21,
     "metadata": {},
     "output_type": "execute_result"
    }
   ],
   "source": [
    "dir(obj)  ## want to show the in built and user defined methods for the given object"
   ]
  },
  {
   "cell_type": "code",
   "execution_count": 25,
   "id": "1815a2c6",
   "metadata": {},
   "outputs": [],
   "source": [
    "##constructor\n",
    "class hotel():\n",
    "    def floor(self,a):\n",
    "        if a == 1:\n",
    "            print(\"veg floor\")\n",
    "        elif a == 2:\n",
    "            print(\"Non veg floor\")\n",
    "    \n",
    "    def dish(self,a):\n",
    "        if a ==1:\n",
    "            print(\"veg biriyani\")\n",
    "        elif a == 2:\n",
    "            print(\"Non veg biriyani\")"
   ]
  },
  {
   "cell_type": "code",
   "execution_count": 23,
   "id": "89032e80",
   "metadata": {},
   "outputs": [
    {
     "name": "stdout",
     "output_type": "stream",
     "text": [
      "veg floor\n",
      "veg biriyani\n"
     ]
    }
   ],
   "source": [
    "a = hotel()\n",
    "a.floor(1)\n",
    "a.dish(1)"
   ]
  },
  {
   "cell_type": "code",
   "execution_count": 27,
   "id": "4fddb5eb",
   "metadata": {},
   "outputs": [
    {
     "name": "stdout",
     "output_type": "stream",
     "text": [
      "veg floor\n",
      "Non veg biriyani\n"
     ]
    }
   ],
   "source": [
    "##logically in veg floor only order should be in veg only. To control this we need constructor\n",
    "a = hotel()\n",
    "a.floor(1)\n",
    "a.dish(2)"
   ]
  },
  {
   "cell_type": "code",
   "execution_count": 28,
   "id": "2c2fedde",
   "metadata": {},
   "outputs": [],
   "source": [
    "## example of constructor\n",
    "## one time configuration for the claa, variables stored in instance variables(i.e) self.hotelfloor is like a cache memory\n",
    "##inside the class\n",
    "class hotel():\n",
    "    def __init__(self,flr):  ## __init__ --> Contructor aka initializer\n",
    "        print(\"inside the constructor\")   ## Phone one time settings (ex vibrate to ring)\n",
    "        self.hotelfloor = flr\n",
    "    \n",
    "    def floor(self):    ## every time call comes go and change the setting ex) vibrate to ring\n",
    "        if self.hotelfloor == 1:\n",
    "            print(\"veg floor\")\n",
    "        elif self.hotelfloor == 2:\n",
    "            print(\"Non veg floor\")\n",
    "    \n",
    "    def dish(self):  ## everytime SMS comes go and change it from vibrate to silent\n",
    "        if self.hotelfloor == 1:\n",
    "            print(\"veg Briyani\")\n",
    "        elif self.hotelfloor == 2:\n",
    "            print(\"Non veg biriyani\")\n",
    "        "
   ]
  },
  {
   "cell_type": "code",
   "execution_count": 30,
   "id": "d1747b32",
   "metadata": {},
   "outputs": [
    {
     "name": "stdout",
     "output_type": "stream",
     "text": [
      "inside the constructor\n",
      "veg floor\n",
      "veg Briyani\n"
     ]
    }
   ],
   "source": [
    "a = hotel(1)\n",
    "a.floor()\n",
    "a.dish()"
   ]
  },
  {
   "cell_type": "code",
   "execution_count": 31,
   "id": "36cb008e",
   "metadata": {},
   "outputs": [
    {
     "name": "stdout",
     "output_type": "stream",
     "text": [
      "inside the constructor\n",
      "Non veg floor\n",
      "Non veg biriyani\n"
     ]
    }
   ],
   "source": [
    "b=hotel(2)\n",
    "b.floor()\n",
    "b.dish()"
   ]
  },
  {
   "cell_type": "code",
   "execution_count": 32,
   "id": "01969973",
   "metadata": {},
   "outputs": [],
   "source": [
    "## To explain the purpose of constructor.\n",
    "class gold():\n",
    "    def bill_rate(self, rate, gram):\n",
    "        amount = rate * gram\n",
    "        print(f\"your bill amount is {amount}\")"
   ]
  },
  {
   "cell_type": "code",
   "execution_count": 33,
   "id": "33ba3712",
   "metadata": {},
   "outputs": [
    {
     "name": "stdout",
     "output_type": "stream",
     "text": [
      "your bill amount is 50000\n"
     ]
    }
   ],
   "source": [
    "a=gold()\n",
    "a.bill_rate(5000,10)  ##rate is changed based on bias"
   ]
  },
  {
   "cell_type": "code",
   "execution_count": 34,
   "id": "3002e491",
   "metadata": {},
   "outputs": [
    {
     "name": "stdout",
     "output_type": "stream",
     "text": [
      "your bill amount is 55000\n"
     ]
    }
   ],
   "source": [
    "a.bill_rate(5000,10)  ##rate is changed based on biasa"
   ]
  },
  {
   "cell_type": "code",
   "execution_count": 35,
   "id": "ac2cbd65",
   "metadata": {},
   "outputs": [],
   "source": [
    "class gold():\n",
    "    def __init__(self, todays_rate):  ##No bias in rate. Its fixed for everone\n",
    "        self.todays_rate=todays_rate\n",
    "    \n",
    "    def bill_rate(self, gram):\n",
    "        amount = self.todays_rate*gram\n",
    "        print(f\"your bill anoumt is {amount}\")"
   ]
  },
  {
   "cell_type": "code",
   "execution_count": 36,
   "id": "0dbc783d",
   "metadata": {},
   "outputs": [
    {
     "name": "stdout",
     "output_type": "stream",
     "text": [
      "your bill anoumt is 50000\n"
     ]
    }
   ],
   "source": [
    "a=gold(5000)\n",
    "a.bill_rate(10)"
   ]
  },
  {
   "cell_type": "code",
   "execution_count": 37,
   "id": "3f05e485",
   "metadata": {},
   "outputs": [],
   "source": [
    "##types of variables\n",
    "##static variable - Inside the class and outside the constructor\n",
    "## types of variables\n",
    "class employee():\n",
    "    EMP_ID = 1                        ### STATIC VARIABLE\n",
    "    \n",
    "    def __init__(self,name):\n",
    "        self.name = name              #### self.name --> instance variable\n",
    "    \n",
    "    def display(self, age):           ### age  : argument to the method\n",
    "        sal = 1000                  ### sal --> local variable\n",
    "        print(self.EMP_ID)\n",
    "        print(self.name)\n",
    "        print(age)\n",
    "        print(sal)"
   ]
  },
  {
   "cell_type": "code",
   "execution_count": 38,
   "id": "a2ff4166",
   "metadata": {},
   "outputs": [
    {
     "name": "stdout",
     "output_type": "stream",
     "text": [
      "1\n",
      "dinesh\n",
      "30\n",
      "1000\n"
     ]
    }
   ],
   "source": [
    "a = employee(\"dinesh\")    ### reference variable\n",
    "a.display(\"30\")"
   ]
  },
  {
   "cell_type": "code",
   "execution_count": 39,
   "id": "4ebf1251",
   "metadata": {},
   "outputs": [
    {
     "data": {
      "text/plain": [
       "['EMP_ID',\n",
       " '__class__',\n",
       " '__delattr__',\n",
       " '__dict__',\n",
       " '__dir__',\n",
       " '__doc__',\n",
       " '__eq__',\n",
       " '__format__',\n",
       " '__ge__',\n",
       " '__getattribute__',\n",
       " '__gt__',\n",
       " '__hash__',\n",
       " '__init__',\n",
       " '__init_subclass__',\n",
       " '__le__',\n",
       " '__lt__',\n",
       " '__module__',\n",
       " '__ne__',\n",
       " '__new__',\n",
       " '__reduce__',\n",
       " '__reduce_ex__',\n",
       " '__repr__',\n",
       " '__setattr__',\n",
       " '__sizeof__',\n",
       " '__str__',\n",
       " '__subclasshook__',\n",
       " '__weakref__',\n",
       " 'display',\n",
       " 'name']"
      ]
     },
     "execution_count": 39,
     "metadata": {},
     "output_type": "execute_result"
    }
   ],
   "source": [
    "dir(a)"
   ]
  },
  {
   "cell_type": "code",
   "execution_count": null,
   "id": "a8e85c0f",
   "metadata": {},
   "outputs": [],
   "source": []
  }
 ],
 "metadata": {
  "kernelspec": {
   "display_name": "Python 3 (ipykernel)",
   "language": "python",
   "name": "python3"
  },
  "language_info": {
   "codemirror_mode": {
    "name": "ipython",
    "version": 3
   },
   "file_extension": ".py",
   "mimetype": "text/x-python",
   "name": "python",
   "nbconvert_exporter": "python",
   "pygments_lexer": "ipython3",
   "version": "3.9.13"
  }
 },
 "nbformat": 4,
 "nbformat_minor": 5
}
