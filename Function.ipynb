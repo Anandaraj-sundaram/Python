{
 "cells": [
  {
   "cell_type": "code",
   "execution_count": 1,
   "id": "2494d9f5",
   "metadata": {},
   "outputs": [
    {
     "name": "stdout",
     "output_type": "stream",
     "text": [
      "11\n"
     ]
    }
   ],
   "source": [
    "a=5\n",
    "b=6\n",
    "print(a+b)"
   ]
  },
  {
   "cell_type": "code",
   "execution_count": 2,
   "id": "0124f7d9",
   "metadata": {},
   "outputs": [],
   "source": [
    "## def  --> Defining the function . \n",
    "## a, b --> are arguments\n",
    "## add  --> function name\n",
    "## print is an in-buit function. add is an user-defined function.\n",
    "## function always has ()\n",
    "def add(a,b):\n",
    "    print(a+b)"
   ]
  },
  {
   "cell_type": "code",
   "execution_count": 3,
   "id": "054f81fc",
   "metadata": {},
   "outputs": [
    {
     "name": "stdout",
     "output_type": "stream",
     "text": [
      "11\n"
     ]
    }
   ],
   "source": [
    "## calling the function\n",
    "add(5,6)"
   ]
  },
  {
   "cell_type": "code",
   "execution_count": 12,
   "id": "79c6f589",
   "metadata": {},
   "outputs": [
    {
     "name": "stdout",
     "output_type": "stream",
     "text": [
      "start of function 9\n",
      "start of function 9\n",
      "9\n"
     ]
    }
   ],
   "source": [
    "## Local variable \n",
    "## global variable\n",
    "##  for multiline comment use \"\"\" fefe\"\"\"\n",
    "def add(a,b):\n",
    "    print(\"start of function\" ,a+b)\n",
    "    print(f\"start of function {a+b}\") ## formatting\n",
    "    return (a+b)\n",
    "    print(\"after return\") ## after return function next statements under this function\n",
    "                          ##block wont be recognized##\n",
    "c=add(5,4)\n",
    "print(c)"
   ]
  },
  {
   "cell_type": "code",
   "execution_count": 13,
   "id": "7aac7683",
   "metadata": {},
   "outputs": [
    {
     "name": "stdout",
     "output_type": "stream",
     "text": [
      "welcome\n",
      "hello\n"
     ]
    }
   ],
   "source": [
    "a=\"welcome\" ##global\n",
    "def test():\n",
    "    a=\"hello\" # local\n",
    "    return a\n",
    "print(a)\n",
    "a=test()\n",
    "print(a)"
   ]
  },
  {
   "cell_type": "code",
   "execution_count": 14,
   "id": "27aae248",
   "metadata": {},
   "outputs": [
    {
     "name": "stdout",
     "output_type": "stream",
     "text": [
      "welcome\n",
      "hello\n",
      "welcome\n"
     ]
    }
   ],
   "source": [
    "a=\"welcome\" ##global\n",
    "def test():\n",
    "    a=\"hello\" # local\n",
    "    print(a)\n",
    "print(a)\n",
    "test()\n",
    "print(a)"
   ]
  },
  {
   "cell_type": "code",
   "execution_count": 15,
   "id": "40b08d73",
   "metadata": {},
   "outputs": [
    {
     "name": "stdout",
     "output_type": "stream",
     "text": [
      "welcome\n"
     ]
    },
    {
     "ename": "UnboundLocalError",
     "evalue": "local variable 'a' referenced before assignment",
     "output_type": "error",
     "traceback": [
      "\u001b[1;31m---------------------------------------------------------------------------\u001b[0m",
      "\u001b[1;31mUnboundLocalError\u001b[0m                         Traceback (most recent call last)",
      "\u001b[1;32m~\\AppData\\Local\\Temp\\ipykernel_21616\\519319814.py\u001b[0m in \u001b[0;36m<module>\u001b[1;34m\u001b[0m\n\u001b[0;32m      5\u001b[0m     \u001b[0mprint\u001b[0m\u001b[1;33m(\u001b[0m\u001b[0ma\u001b[0m\u001b[1;33m)\u001b[0m\u001b[1;33m\u001b[0m\u001b[1;33m\u001b[0m\u001b[0m\n\u001b[0;32m      6\u001b[0m \u001b[0mprint\u001b[0m\u001b[1;33m(\u001b[0m\u001b[0ma\u001b[0m\u001b[1;33m)\u001b[0m\u001b[1;33m\u001b[0m\u001b[1;33m\u001b[0m\u001b[0m\n\u001b[1;32m----> 7\u001b[1;33m \u001b[0mtest\u001b[0m\u001b[1;33m(\u001b[0m\u001b[1;33m)\u001b[0m\u001b[1;33m\u001b[0m\u001b[1;33m\u001b[0m\u001b[0m\n\u001b[0m\u001b[0;32m      8\u001b[0m \u001b[0mprint\u001b[0m\u001b[1;33m(\u001b[0m\u001b[0ma\u001b[0m\u001b[1;33m)\u001b[0m\u001b[1;33m\u001b[0m\u001b[1;33m\u001b[0m\u001b[0m\n",
      "\u001b[1;32m~\\AppData\\Local\\Temp\\ipykernel_21616\\519319814.py\u001b[0m in \u001b[0;36mtest\u001b[1;34m()\u001b[0m\n\u001b[0;32m      1\u001b[0m \u001b[0ma\u001b[0m\u001b[1;33m=\u001b[0m\u001b[1;34m\"welcome\"\u001b[0m \u001b[1;31m##global\u001b[0m\u001b[1;33m\u001b[0m\u001b[1;33m\u001b[0m\u001b[0m\n\u001b[0;32m      2\u001b[0m \u001b[1;32mdef\u001b[0m \u001b[0mtest\u001b[0m\u001b[1;33m(\u001b[0m\u001b[1;33m)\u001b[0m\u001b[1;33m:\u001b[0m\u001b[1;33m\u001b[0m\u001b[1;33m\u001b[0m\u001b[0m\n\u001b[1;32m----> 3\u001b[1;33m     \u001b[0mprint\u001b[0m\u001b[1;33m(\u001b[0m\u001b[0ma\u001b[0m\u001b[1;33m)\u001b[0m\u001b[1;33m\u001b[0m\u001b[1;33m\u001b[0m\u001b[0m\n\u001b[0m\u001b[0;32m      4\u001b[0m     \u001b[0ma\u001b[0m\u001b[1;33m=\u001b[0m\u001b[1;34m\"hello\"\u001b[0m \u001b[1;31m# local\u001b[0m\u001b[1;33m\u001b[0m\u001b[1;33m\u001b[0m\u001b[0m\n\u001b[0;32m      5\u001b[0m     \u001b[0mprint\u001b[0m\u001b[1;33m(\u001b[0m\u001b[0ma\u001b[0m\u001b[1;33m)\u001b[0m\u001b[1;33m\u001b[0m\u001b[1;33m\u001b[0m\u001b[0m\n",
      "\u001b[1;31mUnboundLocalError\u001b[0m: local variable 'a' referenced before assignment"
     ]
    }
   ],
   "source": [
    "a=\"welcome\" ##global\n",
    "def test():\n",
    "    print(a)\n",
    "    a=\"hello\" # local\n",
    "    print(a)\n",
    "print(a)\n",
    "test()\n",
    "print(a)"
   ]
  },
  {
   "cell_type": "code",
   "execution_count": 21,
   "id": "eeb6223a",
   "metadata": {},
   "outputs": [
    {
     "name": "stdout",
     "output_type": "stream",
     "text": [
      "1962884754288\n",
      "hello\n",
      "1962880113200\n",
      "hello\n",
      "hello\n"
     ]
    }
   ],
   "source": [
    "a=\"welcome\" ##global\n",
    "def test(): \n",
    "    global a  #making local variable into global variable\n",
    "    a=\"hello\" # local\n",
    "    z=\"hello\"\n",
    "    print(a)    \n",
    "print(id(a))\n",
    "test()\n",
    "print(id(a))\n",
    "print(a)\n",
    "print(a)"
   ]
  },
  {
   "cell_type": "code",
   "execution_count": 22,
   "id": "246ce034",
   "metadata": {},
   "outputs": [
    {
     "name": "stdout",
     "output_type": "stream",
     "text": [
      "1962809524464\n",
      "1962880113200\n"
     ]
    }
   ],
   "source": [
    "a='hi'\n",
    "print(id(a))\n",
    "a='hello'\n",
    "print(id(a))"
   ]
  },
  {
   "cell_type": "code",
   "execution_count": 23,
   "id": "b1bbce77",
   "metadata": {},
   "outputs": [],
   "source": [
    "#way of passing argument, argumnet handling\n",
    "def add(a,b):\n",
    "    return(a+b)"
   ]
  },
  {
   "cell_type": "code",
   "execution_count": 26,
   "id": "b1bc60f3",
   "metadata": {},
   "outputs": [],
   "source": [
    "def add(a,b,c):\n",
    "    return (a+b+c)\n"
   ]
  },
  {
   "cell_type": "code",
   "execution_count": 42,
   "id": "8986100a",
   "metadata": {},
   "outputs": [],
   "source": [
    "## Positional Parameters\n",
    "def name(f_name,m_name,l_name):\n",
    "    print(\"first name is\", f_name)\n",
    "    print(\"middle name is\", m_name)\n",
    "    print(\"last name is\", l_name)\n",
    "    print(f\"{f_name}{m_name}{l_name}\")"
   ]
  },
  {
   "cell_type": "code",
   "execution_count": 43,
   "id": "6586a0d6",
   "metadata": {},
   "outputs": [
    {
     "name": "stdout",
     "output_type": "stream",
     "text": [
      "first name is sachin\n",
      "middle name is Ramesh\n",
      "last name is Tendulkar\n",
      "sachinRameshTendulkar\n"
     ]
    }
   ],
   "source": [
    "name(\"sachin\",\"Ramesh\",\"Tendulkar\") ## positional argument"
   ]
  },
  {
   "cell_type": "code",
   "execution_count": 29,
   "id": "6bd589e1",
   "metadata": {},
   "outputs": [
    {
     "name": "stdout",
     "output_type": "stream",
     "text": [
      "first name is asderf\n",
      "middle name is tendulkar\n",
      "last name is Ramesh\n"
     ]
    }
   ],
   "source": [
    "name(l_name=\"Ramesh\", f_name=\"asderf\",m_name=\"tendulkar\") ## keyword argument"
   ]
  },
  {
   "cell_type": "code",
   "execution_count": 45,
   "id": "a56ba980",
   "metadata": {},
   "outputs": [],
   "source": [
    "## positional argument follows keyword argument\n",
    "## non default argument follows default argument\n",
    "def name(f_name=None,m_name=None,l_name=None): ## example of default argument\n",
    "    print(\"first name is\", f_name)\n",
    "    print(\"middle name is\", m_name)\n",
    "    print(\"last name is\", l_name)\n",
    "    print(f\"{f_name}{m_name}{l_name}\")\n",
    "    \n"
   ]
  },
  {
   "cell_type": "code",
   "execution_count": 47,
   "id": "3cb1bb7d",
   "metadata": {},
   "outputs": [
    {
     "name": "stdout",
     "output_type": "stream",
     "text": [
      "first name is sachin\n",
      "middle name is Ramesh\n",
      "last name is Tendulkar\n",
      "sachinRameshTendulkar\n"
     ]
    }
   ],
   "source": [
    "name(f_name=\"sachin\", m_name=\"Ramesh\",l_name=\"Tendulkar\")"
   ]
  },
  {
   "cell_type": "code",
   "execution_count": 48,
   "id": "1a0646e3",
   "metadata": {},
   "outputs": [
    {
     "ename": "SyntaxError",
     "evalue": "positional argument follows keyword argument (4109316394.py, line 1)",
     "output_type": "error",
     "traceback": [
      "\u001b[1;36m  File \u001b[1;32m\"C:\\Users\\rsana\\AppData\\Local\\Temp\\ipykernel_21616\\4109316394.py\"\u001b[1;36m, line \u001b[1;32m1\u001b[0m\n\u001b[1;33m    name(f_name=\"sachin\", m_name=\"Ramesh\",\"Tendulkar\")\u001b[0m\n\u001b[1;37m                                                     ^\u001b[0m\n\u001b[1;31mSyntaxError\u001b[0m\u001b[1;31m:\u001b[0m positional argument follows keyword argument\n"
     ]
    }
   ],
   "source": [
    "name(f_name=\"sachin\", m_name=\"Ramesh\",\"Tendulkar\")"
   ]
  },
  {
   "cell_type": "code",
   "execution_count": 50,
   "id": "2f03d50f",
   "metadata": {},
   "outputs": [
    {
     "name": "stdout",
     "output_type": "stream",
     "text": [
      "('hello', 1, 2, 3, 'welcome')\n",
      "hello 1\n"
     ]
    }
   ],
   "source": [
    "## Dynamically changing arguments handling. For positional arguments\n",
    "def test(*args):\n",
    "    print(args)\n",
    "    a=args[0]\n",
    "    b=args[1]\n",
    "    print(a,b)\n",
    "\n",
    "test(\"hello\",1,2,3,\"welcome\")\n"
   ]
  },
  {
   "cell_type": "code",
   "execution_count": 51,
   "id": "7848036a",
   "metadata": {},
   "outputs": [
    {
     "name": "stdout",
     "output_type": "stream",
     "text": [
      "{'name': 'test', 'add1': 'test', 'state': 'TN', 'add2': 'test3'}\n",
      "test TN\n"
     ]
    },
    {
     "data": {
      "text/plain": [
       "('test', 'TN')"
      ]
     },
     "execution_count": 51,
     "metadata": {},
     "output_type": "execute_result"
    }
   ],
   "source": [
    "def test(**kwargs):\n",
    "    print(kwargs)\n",
    "    name=kwargs.get(\"name\")\n",
    "    state=kwargs.get(\"state\")\n",
    "    print(name,state)\n",
    "    return name,state\n",
    "\n",
    "test(name=\"test\", add1=\"test\", state=\"TN\", add2=\"test3\")"
   ]
  },
  {
   "cell_type": "code",
   "execution_count": 57,
   "id": "458feabd",
   "metadata": {},
   "outputs": [
    {
     "name": "stdout",
     "output_type": "stream",
     "text": [
      "{'name': 'test', 'add1': 'test', 'state': 'TN', 'add2': 'test3'}\n",
      "test TN\n"
     ]
    },
    {
     "data": {
      "text/plain": [
       "('test', 'TN')"
      ]
     },
     "execution_count": 57,
     "metadata": {},
     "output_type": "execute_result"
    }
   ],
   "source": [
    "## Dynamically changing arguments handling. For Keyword arguments\n",
    "def test(**kwargs):\n",
    "    print(kwargs)   \n",
    "    name=kwargs.get(\"name\")\n",
    "    state=kwargs.get(\"state\")\n",
    "    print(name,state)\n",
    "    return name,state\n",
    "\n",
    "test(name=\"test\", add1=\"test\", state=\"TN\", add2=\"test3\")"
   ]
  },
  {
   "cell_type": "code",
   "execution_count": 58,
   "id": "023780f1",
   "metadata": {},
   "outputs": [
    {
     "name": "stdout",
     "output_type": "stream",
     "text": [
      "{'name': 'test', 'add1': 'test', 'state': 'TN', 'add2': 'test3'}\n",
      "('hello',)\n",
      "hello test TN\n"
     ]
    },
    {
     "data": {
      "text/plain": [
       "('hello', 'test', 'TN')"
      ]
     },
     "execution_count": 58,
     "metadata": {},
     "output_type": "execute_result"
    }
   ],
   "source": [
    "def test(*args,**kwargs):\n",
    "    print(kwargs)\n",
    "    print(args)\n",
    "    a=args[0]\n",
    "    name=kwargs.get(\"name\")\n",
    "    state=kwargs.get(\"state\")\n",
    "    print(a,name,state)\n",
    "    return a,name,state\n",
    "\n",
    "test(\"hello\",name=\"test\", add1=\"test\", state=\"TN\", add2=\"test3\")"
   ]
  },
  {
   "cell_type": "code",
   "execution_count": 62,
   "id": "ad24c618",
   "metadata": {},
   "outputs": [
    {
     "name": "stdout",
     "output_type": "stream",
     "text": [
      "{'ef'}\n"
     ]
    }
   ],
   "source": [
    "## Dynamically changing arguments handling. For Keyword arguments\n",
    "def test(**kwargs):\n",
    "      \n",
    "    name=kwargs.get(\"name\")\n",
    "    state=kwargs.get(\"state\")\n",
    "    if len(state):\n",
    "        print(state)\n",
    "\n",
    "test(name=\"test\", add1=\"test\", state={'ef'}, add2=\"test3\")"
   ]
  },
  {
   "cell_type": "code",
   "execution_count": 63,
   "id": "ffca9eaa",
   "metadata": {},
   "outputs": [
    {
     "name": "stdout",
     "output_type": "stream",
     "text": [
      "1\n",
      "(2, 3, 4)\n"
     ]
    }
   ],
   "source": [
    "def test(a,*b):\n",
    "    print(a)\n",
    "    print(b)\n",
    "\n",
    "test(1,2,3,4)"
   ]
  },
  {
   "cell_type": "code",
   "execution_count": 64,
   "id": "a06601f9",
   "metadata": {},
   "outputs": [
    {
     "name": "stdout",
     "output_type": "stream",
     "text": [
      "12\n"
     ]
    }
   ],
   "source": [
    "def mul(a,b,c=1):\n",
    "    print(a*b*c)\n",
    "mul(3,4)"
   ]
  },
  {
   "cell_type": "code",
   "execution_count": 65,
   "id": "ecbbdaea",
   "metadata": {},
   "outputs": [
    {
     "name": "stdout",
     "output_type": "stream",
     "text": [
      "9\n"
     ]
    }
   ],
   "source": [
    "## Lambda #in line function\n",
    "def add(a,b):\n",
    "    return a+b\n",
    "c=add(5,4)\n",
    "print(c)"
   ]
  },
  {
   "cell_type": "code",
   "execution_count": 66,
   "id": "225d77f0",
   "metadata": {},
   "outputs": [
    {
     "data": {
      "text/plain": [
       "9"
      ]
     },
     "execution_count": 66,
     "metadata": {},
     "output_type": "execute_result"
    }
   ],
   "source": [
    "a=lambda a,b : a+b\n",
    "a(5,4)"
   ]
  },
  {
   "cell_type": "code",
   "execution_count": 67,
   "id": "4ea06aaa",
   "metadata": {},
   "outputs": [
    {
     "data": {
      "text/plain": [
       "10"
      ]
     },
     "execution_count": 67,
     "metadata": {},
     "output_type": "execute_result"
    }
   ],
   "source": [
    "a=lambda *args : sum(args)\n",
    "a(1,2,3,4)"
   ]
  },
  {
   "cell_type": "code",
   "execution_count": 3,
   "id": "6ef1846f",
   "metadata": {},
   "outputs": [
    {
     "data": {
      "text/plain": [
       "'arg1 : even/odd\\n 10 , 500 , odd --> op : list\\n lambda - simple lambda function'"
      ]
     },
     "execution_count": 3,
     "metadata": {},
     "output_type": "execute_result"
    }
   ],
   "source": [
    "### \n",
    "#write a function , take two input as argument\n",
    "#inp : 1 --> [10,1,20,45,6,12,8]\n",
    "#inp :2 --> some integer\n",
    "#ex: inp : 2 --> 1\n",
    "# op = [1,10,20,45,6,12,8]\n",
    "##\n",
    "##common function \n",
    "## arg1 : start num\n",
    "## arg2 : end num\n",
    "# arg1 : even/odd\n",
    "# 10 , 500 , odd --> op : list\n",
    "### lambda - simple lambda function"
   ]
  },
  {
   "cell_type": "code",
   "execution_count": 13,
   "id": "5c9166f0",
   "metadata": {},
   "outputs": [
    {
     "name": "stdout",
     "output_type": "stream",
     "text": [
      "l [11, 13, 15, 17, 19]\n",
      "[11, 13, 15, 17, 19]\n"
     ]
    }
   ],
   "source": [
    "def evenodd(a,b,c):\n",
    "    l=[]   \n",
    "    for i in range(a,b):\n",
    "        if (c=='even' and i%2==0):\n",
    "            l.append(i)\n",
    "            print(l)\n",
    "        elif (c=='odd' and i%2!=0):\n",
    "            l.append(i)\n",
    "    print('l',l)\n",
    "    return l\n",
    "\n",
    "d=evenodd(10,20,'odd')\n",
    "print(d)\n",
    "\n",
    "            \n",
    "        "
   ]
  },
  {
   "cell_type": "code",
   "execution_count": 16,
   "id": "a10388be",
   "metadata": {},
   "outputs": [
    {
     "ename": "TypeError",
     "evalue": "'list' object is not callable",
     "output_type": "error",
     "traceback": [
      "\u001b[1;31m---------------------------------------------------------------------------\u001b[0m",
      "\u001b[1;31mTypeError\u001b[0m                                 Traceback (most recent call last)",
      "\u001b[1;32m~\\AppData\\Local\\Temp\\ipykernel_20416\\2645835883.py\u001b[0m in \u001b[0;36m<module>\u001b[1;34m\u001b[0m\n\u001b[0;32m      1\u001b[0m \u001b[0ma\u001b[0m\u001b[1;33m=\u001b[0m\u001b[1;33m[\u001b[0m\u001b[1;36m1\u001b[0m\u001b[1;33m,\u001b[0m\u001b[1;36m2\u001b[0m\u001b[1;33m,\u001b[0m\u001b[1;36m3\u001b[0m\u001b[1;33m,\u001b[0m\u001b[1;36m4\u001b[0m\u001b[1;33m]\u001b[0m\u001b[1;33m\u001b[0m\u001b[1;33m\u001b[0m\u001b[0m\n\u001b[0;32m      2\u001b[0m \u001b[0mb\u001b[0m\u001b[1;33m=\u001b[0m\u001b[1;33m[\u001b[0m\u001b[1;36m4\u001b[0m\u001b[1;33m,\u001b[0m\u001b[1;36m1\u001b[0m\u001b[1;33m]\u001b[0m\u001b[1;33m\u001b[0m\u001b[1;33m\u001b[0m\u001b[0m\n\u001b[1;32m----> 3\u001b[1;33m \u001b[0mprint\u001b[0m\u001b[1;33m(\u001b[0m\u001b[0ma\u001b[0m\u001b[1;33m.\u001b[0m\u001b[0mindex\u001b[0m\u001b[1;33m(\u001b[0m\u001b[0mb\u001b[0m\u001b[1;33m(\u001b[0m\u001b[1;36m0\u001b[0m\u001b[1;33m)\u001b[0m\u001b[1;33m)\u001b[0m\u001b[1;33m)\u001b[0m\u001b[1;33m\u001b[0m\u001b[1;33m\u001b[0m\u001b[0m\n\u001b[0m",
      "\u001b[1;31mTypeError\u001b[0m: 'list' object is not callable"
     ]
    }
   ],
   "source": [
    "a=[1,2,3,4]\n",
    "b=[4,1]\n",
    "print(a.index(b(0)))"
   ]
  },
  {
   "cell_type": "code",
   "execution_count": null,
   "id": "23d51eb3",
   "metadata": {},
   "outputs": [],
   "source": []
  }
 ],
 "metadata": {
  "kernelspec": {
   "display_name": "Python 3 (ipykernel)",
   "language": "python",
   "name": "python3"
  },
  "language_info": {
   "codemirror_mode": {
    "name": "ipython",
    "version": 3
   },
   "file_extension": ".py",
   "mimetype": "text/x-python",
   "name": "python",
   "nbconvert_exporter": "python",
   "pygments_lexer": "ipython3",
   "version": "3.9.13"
  }
 },
 "nbformat": 4,
 "nbformat_minor": 5
}
