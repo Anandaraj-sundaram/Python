{
 "cells": [
  {
   "cell_type": "code",
   "execution_count": 1,
   "id": "82fae38d",
   "metadata": {},
   "outputs": [],
   "source": [
    "# inheritance\n",
    "#simple inheritance\n",
    "class calc():\n",
    "    def add(self,a,b):\n",
    "        print(a+b)\n",
    "    def sub(self,a,b):\n",
    "        print(a-b)\n",
    "    "
   ]
  },
  {
   "cell_type": "code",
   "execution_count": 2,
   "id": "4bb07867",
   "metadata": {},
   "outputs": [
    {
     "name": "stdout",
     "output_type": "stream",
     "text": [
      "9\n",
      "1\n",
      "20\n"
     ]
    }
   ],
   "source": [
    "class calc1(calc):  #single inheritance. Passing the class as \n",
    "    def mul(self,a,b):\n",
    "        print(a*b)\n",
    "\n",
    "a=calc1()     # whenever smartphone version has problem next \n",
    "#version will fix that but just pass the old class to retain the existing features\n",
    "a.add(5,4)\n",
    "a.sub(5,4)\n",
    "a.mul(5,4)\n",
    "    "
   ]
  },
  {
   "cell_type": "code",
   "execution_count": 5,
   "id": "9ac9cc41",
   "metadata": {},
   "outputs": [
    {
     "name": "stdout",
     "output_type": "stream",
     "text": [
      "1000\n"
     ]
    }
   ],
   "source": [
    "###### single inheritance with constructor\n",
    "## constructor with child class only\n",
    "## constructor is just like keeping it in cache memory\n",
    "class parent():\n",
    "    def demo(self):\n",
    "        print(\"demo\")\n",
    "\n",
    "class child(parent):\n",
    "    def __init__(self):\n",
    "        self.money = 1000\n",
    "    def display(self):\n",
    "        print(self.money)\n",
    "        \n",
    "\n",
    "a = child()\n",
    "a.display()\n",
    "    "
   ]
  },
  {
   "cell_type": "code",
   "execution_count": 8,
   "id": "e75544e4",
   "metadata": {},
   "outputs": [
    {
     "name": "stdout",
     "output_type": "stream",
     "text": [
      "1000\n",
      "anand\n"
     ]
    }
   ],
   "source": [
    "##### constructor in both in parent and child\n",
    "##Super is an keyword. It will make recognize the constrictor in superclass or upper class in child\n",
    "class parent():\n",
    "    \n",
    "    def __init__(self):\n",
    "        self.name=\"anand\"\n",
    "    def demo(self):\n",
    "        print(\"demo\")\n",
    "\n",
    "class child(parent):\n",
    "    def __init__(self):\n",
    "        self.money = 1000\n",
    "        super().__init__()    ## try without this first. It wont recognize class parent constructor\n",
    "                \n",
    "    def display(self):\n",
    "        print(self.money)\n",
    "        print(self.name)\n",
    "        \n",
    "\n",
    "a = child()\n",
    "a.display()"
   ]
  },
  {
   "cell_type": "code",
   "execution_count": 9,
   "id": "712dea34",
   "metadata": {},
   "outputs": [
    {
     "name": "stdout",
     "output_type": "stream",
     "text": [
      "9\n",
      "1\n",
      "20\n",
      "1.25\n"
     ]
    }
   ],
   "source": [
    "### Multilevel inheritance\n",
    "class calc():\n",
    "    def add(self,a,b):\n",
    "        print(a+b)\n",
    "    def sub(self,a,b):\n",
    "        print(a-b)\n",
    "        \n",
    "class calc1(calc):\n",
    "    def mul(self,a,b):\n",
    "        print(a*b)\n",
    "\n",
    "class calc2(calc1):\n",
    "    def div(self,a,b):\n",
    "        print(a/b)\n",
    "        \n",
    "a=calc2()\n",
    "a.add(5,4)\n",
    "a.sub(5,4)\n",
    "a.mul(5,4)\n",
    "a.div(5,4)"
   ]
  },
  {
   "cell_type": "code",
   "execution_count": 12,
   "id": "dc07908e",
   "metadata": {},
   "outputs": [
    {
     "name": "stdout",
     "output_type": "stream",
     "text": [
      "1000\n",
      "anand\n",
      "12\n"
     ]
    }
   ],
   "source": [
    "class parent():\n",
    "    \n",
    "    def __init__(self):\n",
    "        self.name=\"anand\"\n",
    "    def demo(self):\n",
    "        print(\"demo\")\n",
    "\n",
    "class child(parent):\n",
    "    def __init__(self):\n",
    "        self.money = 1000\n",
    "        super().__init__()    ## try without this first. It wont recognize class parent constructor\n",
    "                \n",
    "    def display(self):\n",
    "        print(self.money)\n",
    "        print(self.name)\n",
    "\n",
    "class grandchild(child):\n",
    "    def __init__(self):\n",
    "        self.age=\"12\"\n",
    "        super().__init__()\n",
    "        \n",
    "    def display(self):\n",
    "        print(self.money)\n",
    "        print(self.name)\n",
    "        print(self.age)\n",
    "        \n",
    "\n",
    "a = grandchild()\n",
    "a.display()"
   ]
  },
  {
   "cell_type": "code",
   "execution_count": 20,
   "id": "e466feb5",
   "metadata": {},
   "outputs": [
    {
     "name": "stdout",
     "output_type": "stream",
     "text": [
      "parent\n",
      "child\n",
      "parent\n",
      "gchild\n"
     ]
    }
   ],
   "source": [
    "## hierarchial inheritance\n",
    "## Granchild will inherit from parent. CHild will inherit from Parent.\n",
    "## But no relation b/w child and grandchild\n",
    "class parent():\n",
    "    def name(self):\n",
    "        print(\"parent\")\n",
    "\n",
    "class child(parent):\n",
    "    def child(self):\n",
    "        print(\"child\")\n",
    "        \n",
    "class grandchild(parent):  ## relation only bw gchild and parent\n",
    "    def grandchild(self):\n",
    "        print(\"gchild\")\n",
    "        \n",
    "a=child()\n",
    "a.name()\n",
    "a.child()\n",
    "b=grandchild()\n",
    "b.name()\n",
    "b.grandchild()"
   ]
  },
  {
   "cell_type": "code",
   "execution_count": 24,
   "id": "25e38892",
   "metadata": {},
   "outputs": [
    {
     "name": "stdout",
     "output_type": "stream",
     "text": [
      "parent\n",
      "child\n",
      "gchild\n"
     ]
    }
   ],
   "source": [
    "## Multiple inheritance\n",
    "class parent():\n",
    "    def name(self):\n",
    "        print(\"parent\")\n",
    "\n",
    "class child():    ## its is another class .Not inheriting anything from Parent class\n",
    "    def child(self):\n",
    "        print(\"child\")\n",
    "        \n",
    "class grandchild(parent, child):  ## relation only bw gchild and parent\n",
    "    def grandchild(self):\n",
    "        print(\"gchild\")\n",
    "\n",
    "b=grandchild()\n",
    "b.name()\n",
    "b.child()\n",
    "b.grandchild()"
   ]
  },
  {
   "cell_type": "code",
   "execution_count": 26,
   "id": "899f3d3a",
   "metadata": {},
   "outputs": [
    {
     "name": "stdout",
     "output_type": "stream",
     "text": [
      "parent\n",
      "child\n",
      "gchild\n"
     ]
    }
   ],
   "source": [
    "class parent():\n",
    "    def __init__(self):\n",
    "        self.parent=\"parent\"\n",
    "\n",
    "class child():\n",
    "    def __init__(self):\n",
    "        self.child=\"child\"\n",
    "        \n",
    "class gchild(parent,child):   ## super() will take last class in inheritance param list. \n",
    "                              ## Others should be explicitly mentioned super(class,self)\n",
    "    def __init__(self):\n",
    "        self.gchild=\"gchild\"\n",
    "        super().__init__()\n",
    "        super(parent,self).__init__()  ## \n",
    "        \n",
    "    def display(self):\n",
    "        print(self.parent)\n",
    "        print(self.child)\n",
    "        print(self.gchild)\n",
    "a=gchild()\n",
    "a.display()"
   ]
  },
  {
   "cell_type": "code",
   "execution_count": 40,
   "id": "e10612c5",
   "metadata": {},
   "outputs": [],
   "source": [
    "##abstarction\n",
    "## for playing cricket - bat & ball is important\n",
    "## Checking whether bat & ball is there while starting from the home.\n",
    "## checking at the ground whether bat & ball is there\n",
    "## Checking at home is the best approach.\n",
    "from abc import ABC, abstractmethod #abc - abstract class\n",
    "class parent(ABC):\n",
    "    @abstractmethod\n",
    "    def bat(self):\n",
    "        pass\n",
    "    @abstractmethod\n",
    "    def ball(self):\n",
    "        pass"
   ]
  },
  {
   "cell_type": "code",
   "execution_count": 41,
   "id": "7b681560",
   "metadata": {},
   "outputs": [],
   "source": [
    "class play(parent):\n",
    "    def bat(self):\n",
    "        print(\"bat\")\n",
    "    def ball(self):\n",
    "        print(\"ball\")\n",
    "    def stump(self):\n",
    "        print(\"stump\")\n",
    "    def glove(self):\n",
    "        print(\"glove\")\n",
    "a=play()"
   ]
  },
  {
   "cell_type": "code",
   "execution_count": 32,
   "id": "9b894864",
   "metadata": {},
   "outputs": [
    {
     "ename": "SyntaxError",
     "evalue": "invalid syntax (1558504043.py, line 1)",
     "output_type": "error",
     "traceback": [
      "\u001b[1;36m  File \u001b[1;32m\"C:\\Users\\rsana\\AppData\\Local\\Temp\\ipykernel_18840\\1558504043.py\"\u001b[1;36m, line \u001b[1;32m1\u001b[0m\n\u001b[1;33m    ABC??   ## if you want to know the built-in class path and other details\u001b[0m\n\u001b[1;37m       ^\u001b[0m\n\u001b[1;31mSyntaxError\u001b[0m\u001b[1;31m:\u001b[0m invalid syntax\n"
     ]
    }
   ],
   "source": [
    "ABC??   ## if you want to know the built-in class path and other details\n",
    "## use class name??"
   ]
  },
  {
   "cell_type": "code",
   "execution_count": 37,
   "id": "8015b713",
   "metadata": {},
   "outputs": [],
   "source": [
    "a=play()"
   ]
  },
  {
   "cell_type": "code",
   "execution_count": null,
   "id": "a5295706",
   "metadata": {},
   "outputs": [],
   "source": [
    "##my sql https://dev.mysql.com/downloads/installer/"
   ]
  }
 ],
 "metadata": {
  "kernelspec": {
   "display_name": "Python 3 (ipykernel)",
   "language": "python",
   "name": "python3"
  },
  "language_info": {
   "codemirror_mode": {
    "name": "ipython",
    "version": 3
   },
   "file_extension": ".py",
   "mimetype": "text/x-python",
   "name": "python",
   "nbconvert_exporter": "python",
   "pygments_lexer": "ipython3",
   "version": "3.9.13"
  }
 },
 "nbformat": 4,
 "nbformat_minor": 5
}
